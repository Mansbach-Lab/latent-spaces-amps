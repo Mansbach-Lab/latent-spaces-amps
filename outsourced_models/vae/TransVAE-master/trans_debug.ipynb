{
 "cells": [
  {
   "cell_type": "code",
   "execution_count": 1,
   "id": "4e72f7e6",
   "metadata": {},
   "outputs": [
    {
     "name": "stderr",
     "output_type": "stream",
     "text": [
      "G:\\Anaconda\\envs\\amp21\\lib\\site-packages\\torch\\cuda\\__init__.py:52: UserWarning: CUDA initialization: Found no NVIDIA driver on your system. Please check that you have an NVIDIA GPU and installed a driver from http://www.nvidia.com/Download/index.aspx (Triggered internally at  ..\\c10\\cuda\\CUDAFunctions.cpp:100.)\n",
      "  return torch._C._cuda_getDeviceCount() > 0\n"
     ]
    },
    {
     "name": "stdout",
     "output_type": "stream",
     "text": [
      "Epoch - 1 Train - 1.8630467484074253 Val - 1.5204947868982952 KLBeta - 1e-08\n"
     ]
    }
   ],
   "source": [
    "%run scripts/train.py --model rnn --data_source zinc --epochs 3"
   ]
  },
  {
   "cell_type": "code",
   "execution_count": null,
   "id": "9bef6e23",
   "metadata": {},
   "outputs": [],
   "source": [
    "from scripts.train import train\n",
    "from transvae import rnn_models\n",
    "from transvae import trans_models\n",
    "\n",
    "\n",
    "class Args():\n",
    "    checkpoint=None\n",
    "    adam_lr=3e-4\n",
    "    anneal_start=0\n",
    "    batch_chunks=5\n",
    "    batch_size=1000\n",
    "    beta=0.05\n",
    "    beta_init=1e-8\n",
    "    eps_scale=1\n",
    "    lr_scale=1\n",
    "    warmup_steps=10000\n",
    "    property_predictor=False\n",
    "    save_name=None\n",
    "    d_model=128\n",
    "    d_latent=128\n",
    "    d_property_predictor=256\n",
    "    depth_property_predictor=2\n",
    "    epochs=2\n",
    "    save_freq=5\n",
    "    model = \"rnn\"\n",
    "    data_source = \"zinc\"\n",
    "\n",
    "args = Args()\n",
    "train(args)"
   ]
  },
  {
   "cell_type": "code",
   "execution_count": 31,
   "id": "3da6e9f6",
   "metadata": {},
   "outputs": [],
   "source": [
    "import pandas as pd\n",
    "import numpy as np\n",
    "df = pd.read_pickle(\"data\\char_dict_zinc.pkl\") #the dict is just a mapping for each possible smile token to an int\n",
    "weights = np.load(\"data\\char_weights_zinc.npy\") \n",
    "train = pd.read_csv('data\\zinc_complete\\zinc_train.txt').to_numpy()\n",
    "from transvae import tvae_util\n",
    "\n",
    "\n"
   ]
  },
  {
   "cell_type": "code",
   "execution_count": null,
   "id": "51b5830c",
   "metadata": {},
   "outputs": [],
   "source": [
    "#print(df, weights)\n",
    "\n",
    "print(\"with start and end: \",df)\n",
    "df = {i:df[i] for i in df if i!='<end>'}\n",
    "df = {i:df[i] for i in df if i!='<start>'}\n",
    "print(\"withOUT start and end: \",df)\n",
    "\n",
    "parameters_class = {\"NUM_CHAR\" : 24,  \"CHAR_DICT\" : df, \"MAX_LENGTH\" : 126 } \n",
    "params = parameters_class\n",
    "\n",
    "smiles = []\n",
    "for smile in train:\n",
    "    smiles.append(tvae_util.smi_tokenizer(smile[0]))\n",
    "print(smiles[0])\n",
    "\n",
    "char_weights = tvae_util.get_char_weights(smiles,params)\n",
    "print(char_weights)"
   ]
  },
  {
   "cell_type": "code",
   "execution_count": null,
   "id": "a78c94bd",
   "metadata": {},
   "outputs": [],
   "source": [
    "print(weights)"
   ]
  },
  {
   "cell_type": "code",
   "execution_count": 6,
   "id": "a7fdd8f3",
   "metadata": {},
   "outputs": [],
   "source": [
    "import pandas as pd\n",
    "import numpy as np\n",
    "pep = pd.read_csv('data/peptides/1_to_50_reviewed_seq_only.fasta').to_numpy()"
   ]
  },
  {
   "cell_type": "code",
   "execution_count": 29,
   "id": "cd242ae6",
   "metadata": {},
   "outputs": [],
   "source": [
    "#inspired by the Trans-Vae tokenizer\n",
    "def peptide_tokenizer(peptide):\n",
    "    \"Tokenizes SMILES string\"\n",
    "    #need to remove \"X\", \"B\", \"Z\", \"U\"\n",
    "    pattern =  \"(G|A|L|M|F|W|K|Q|E|S|P|V|I|C|Y|H|R|N|D|T|X|B|Z|U)\"\n",
    "    regezz = re.compile(pattern)\n",
    "    tokens = [token for token in regezz.findall(peptide)]\n",
    "    assert peptide == ''.join(tokens), (\"{} could not be joined\".format(peptide))\n",
    "    return tokens"
   ]
  },
  {
   "cell_type": "code",
   "execution_count": 40,
   "id": "4f5d56a7",
   "metadata": {},
   "outputs": [
    {
     "name": "stdout",
     "output_type": "stream",
     "text": [
      "['M', 'K', 'K', 'A', 'V', 'I', 'V', 'E', 'N', 'K', 'G', 'C', 'A', 'T', 'C', 'S', 'I', 'G', 'A', 'A', 'C', 'L', 'V', 'D', 'G', 'P', 'I', 'P', 'D', 'F', 'E', 'I', 'A', 'G', 'A', 'T', 'G', 'L', 'F', 'G', 'L', 'W', 'G'] longest 50\n"
     ]
    }
   ],
   "source": [
    "import re\n",
    "peptides = []\n",
    "for peptide in pep:\n",
    "    peptides.append(peptide_tokenizer(peptide[0]))\n",
    "print(peptides[0], \"longest\", longest)\n",
    "\n"
   ]
  },
  {
   "cell_type": "code",
   "execution_count": 41,
   "id": "b08c2f5c",
   "metadata": {},
   "outputs": [
    {
     "ename": "KeyError",
     "evalue": "'_'",
     "output_type": "error",
     "traceback": [
      "\u001b[1;31m---------------------------------------------------------------------------\u001b[0m",
      "\u001b[1;31mKeyError\u001b[0m                                  Traceback (most recent call last)",
      "\u001b[1;32m<ipython-input-41-a5b1811ab144>\u001b[0m in \u001b[0;36m<module>\u001b[1;34m\u001b[0m\n\u001b[0;32m      3\u001b[0m \u001b[1;33m\u001b[0m\u001b[0m\n\u001b[0;32m      4\u001b[0m \u001b[1;33m\u001b[0m\u001b[0m\n\u001b[1;32m----> 5\u001b[1;33m \u001b[0mchar_weights\u001b[0m \u001b[1;33m=\u001b[0m \u001b[0mtvae_util\u001b[0m\u001b[1;33m.\u001b[0m\u001b[0mget_char_weights\u001b[0m\u001b[1;33m(\u001b[0m\u001b[0mpeptides\u001b[0m\u001b[1;33m,\u001b[0m\u001b[0mparameters\u001b[0m\u001b[1;33m)\u001b[0m\u001b[1;33m\u001b[0m\u001b[1;33m\u001b[0m\u001b[0m\n\u001b[0m",
      "\u001b[1;32mG:\\GitHub\\MSCSAM_TBD\\outsourced_models\\vae\\TransVAE-master\\transvae\\tvae_util.py\u001b[0m in \u001b[0;36mget_char_weights\u001b[1;34m(train_smiles, params, freq_penalty)\u001b[0m\n\u001b[0;32m    133\u001b[0m             \u001b[0mchar_dist\u001b[0m\u001b[1;33m[\u001b[0m\u001b[0mchar\u001b[0m\u001b[1;33m]\u001b[0m \u001b[1;33m+=\u001b[0m \u001b[1;36m1\u001b[0m\u001b[1;33m\u001b[0m\u001b[1;33m\u001b[0m\u001b[0m\n\u001b[0;32m    134\u001b[0m         \u001b[1;32mfor\u001b[0m \u001b[0mj\u001b[0m \u001b[1;32min\u001b[0m \u001b[0mrange\u001b[0m\u001b[1;33m(\u001b[0m\u001b[0mi\u001b[0m\u001b[1;33m,\u001b[0m \u001b[0mparams\u001b[0m\u001b[1;33m[\u001b[0m\u001b[1;34m'MAX_LENGTH'\u001b[0m\u001b[1;33m]\u001b[0m\u001b[1;33m)\u001b[0m\u001b[1;33m:\u001b[0m\u001b[1;33m\u001b[0m\u001b[1;33m\u001b[0m\u001b[0m\n\u001b[1;32m--> 135\u001b[1;33m             \u001b[0mchar_dist\u001b[0m\u001b[1;33m[\u001b[0m\u001b[1;34m'_'\u001b[0m\u001b[1;33m]\u001b[0m \u001b[1;33m+=\u001b[0m \u001b[1;36m1\u001b[0m\u001b[1;33m\u001b[0m\u001b[1;33m\u001b[0m\u001b[0m\n\u001b[0m\u001b[0;32m    136\u001b[0m     \u001b[1;32mfor\u001b[0m \u001b[0mi\u001b[0m\u001b[1;33m,\u001b[0m \u001b[0mv\u001b[0m \u001b[1;32min\u001b[0m \u001b[0menumerate\u001b[0m\u001b[1;33m(\u001b[0m\u001b[0mchar_dist\u001b[0m\u001b[1;33m.\u001b[0m\u001b[0mvalues\u001b[0m\u001b[1;33m(\u001b[0m\u001b[1;33m)\u001b[0m\u001b[1;33m)\u001b[0m\u001b[1;33m:\u001b[0m\u001b[1;33m\u001b[0m\u001b[1;33m\u001b[0m\u001b[0m\n\u001b[0;32m    137\u001b[0m         \u001b[0mchar_counts\u001b[0m\u001b[1;33m[\u001b[0m\u001b[0mi\u001b[0m\u001b[1;33m]\u001b[0m \u001b[1;33m=\u001b[0m \u001b[0mv\u001b[0m\u001b[1;33m\u001b[0m\u001b[1;33m\u001b[0m\u001b[0m\n",
      "\u001b[1;31mKeyError\u001b[0m: '_'"
     ]
    }
   ],
   "source": [
    "pep_dict = {\"G\": 1, \"A\":2, \"L\":3,\"M\":4,\"F\":5,\"W\":6,\"K\":7,\"Q\":8,\"E\":9,\"S\":10,\"P\":11,\"V\":12,\"I\":13,\"C\":14,\"Y\":15,\"H\":16,\"R\":17,\"N\":18,\"D\":19,\"T\":20,\"X\":21,\"B\":22,\"Z\":23,\"U\":24}\n",
    "parameters = {\"NUM_CHAR\" : 24,  \"CHAR_DICT\" : pep_dict, \"MAX_LENGTH\" : 50 } \n",
    "\n",
    "\n",
    "char_weights = tvae_util.get_char_weights(peptides,parameters)\n"
   ]
  },
  {
   "cell_type": "code",
   "execution_count": 5,
   "id": "1fbc09a1",
   "metadata": {},
   "outputs": [
    {
     "data": {
      "text/plain": [
       "'G:\\\\GitHub\\\\MSCSAM_TBD\\\\outsourced_models\\\\vae\\\\TransVAE-master\\\\transvae\\\\__init__.py'"
      ]
     },
     "execution_count": 5,
     "metadata": {},
     "output_type": "execute_result"
    }
   ],
   "source": [
    "import transvae\n",
    "import os\n",
    "path = os.path.abspath(transvae.__file__)\n",
    "path"
   ]
  },
  {
   "cell_type": "code",
   "execution_count": 6,
   "id": "f4212d7b",
   "metadata": {},
   "outputs": [],
   "source": [
    "from torch.nn.parallel import DistributedDataParallel as DDP"
   ]
  },
  {
   "cell_type": "code",
   "execution_count": 1,
   "id": "8b0d30b6",
   "metadata": {},
   "outputs": [
    {
     "name": "stdout",
     "output_type": "stream",
     "text": [
      "GPUs per node:  0\n"
     ]
    },
    {
     "name": "stderr",
     "output_type": "stream",
     "text": [
      "G:\\Anaconda\\envs\\amp21\\lib\\site-packages\\torch\\cuda\\__init__.py:52: UserWarning: CUDA initialization: Found no NVIDIA driver on your system. Please check that you have an NVIDIA GPU and installed a driver from http://www.nvidia.com/Download/index.aspx (Triggered internally at  ..\\c10\\cuda\\CUDAFunctions.cpp:100.)\n",
      "  return torch._C._cuda_getDeviceCount() > 0\n"
     ]
    },
    {
     "ename": "TypeError",
     "evalue": "int() argument must be a string, a bytes-like object or a number, not 'NoneType'",
     "output_type": "error",
     "traceback": [
      "\u001b[1;31m---------------------------------------------------------------------------\u001b[0m",
      "\u001b[1;31mTypeError\u001b[0m                                 Traceback (most recent call last)",
      "\u001b[1;32mG:\\GitHub\\MSCSAM_TBD\\outsourced_models\\vae\\TransVAE-master\\scripts\\train.py\u001b[0m in \u001b[0;36m<module>\u001b[1;34m\u001b[0m\n\u001b[0;32m     94\u001b[0m     \u001b[0mparser\u001b[0m \u001b[1;33m=\u001b[0m \u001b[0mtrain_parser\u001b[0m\u001b[1;33m(\u001b[0m\u001b[1;33m)\u001b[0m\u001b[1;33m\u001b[0m\u001b[1;33m\u001b[0m\u001b[0m\n\u001b[0;32m     95\u001b[0m     \u001b[0margs\u001b[0m \u001b[1;33m=\u001b[0m \u001b[0mparser\u001b[0m\u001b[1;33m.\u001b[0m\u001b[0mparse_args\u001b[0m\u001b[1;33m(\u001b[0m\u001b[1;33m)\u001b[0m\u001b[1;33m\u001b[0m\u001b[1;33m\u001b[0m\u001b[0m\n\u001b[1;32m---> 96\u001b[1;33m     \u001b[0mtrain\u001b[0m\u001b[1;33m(\u001b[0m\u001b[0margs\u001b[0m\u001b[1;33m)\u001b[0m\u001b[1;33m\u001b[0m\u001b[1;33m\u001b[0m\u001b[0m\n\u001b[0m",
      "\u001b[1;32mG:\\GitHub\\MSCSAM_TBD\\outsourced_models\\vae\\TransVAE-master\\scripts\\train.py\u001b[0m in \u001b[0;36mtrain\u001b[1;34m(args)\u001b[0m\n\u001b[0;32m     84\u001b[0m \u001b[1;33m\u001b[0m\u001b[0m\n\u001b[0;32m     85\u001b[0m     \u001b[1;31m### Train model\u001b[0m\u001b[1;33m\u001b[0m\u001b[1;33m\u001b[0m\u001b[1;33m\u001b[0m\u001b[0m\n\u001b[1;32m---> 86\u001b[1;33m     \u001b[0mvae\u001b[0m \u001b[1;33m=\u001b[0m \u001b[0mmodel_init\u001b[0m\u001b[1;33m(\u001b[0m\u001b[0margs\u001b[0m\u001b[1;33m,\u001b[0m \u001b[0mparams\u001b[0m\u001b[1;33m)\u001b[0m\u001b[1;33m\u001b[0m\u001b[1;33m\u001b[0m\u001b[0m\n\u001b[0m\u001b[0;32m     87\u001b[0m     \u001b[1;32mif\u001b[0m \u001b[0margs\u001b[0m\u001b[1;33m.\u001b[0m\u001b[0mcheckpoint\u001b[0m \u001b[1;32mis\u001b[0m \u001b[1;32mnot\u001b[0m \u001b[1;32mNone\u001b[0m\u001b[1;33m:\u001b[0m\u001b[1;33m\u001b[0m\u001b[1;33m\u001b[0m\u001b[0m\n\u001b[0;32m     88\u001b[0m         \u001b[0mvae\u001b[0m\u001b[1;33m.\u001b[0m\u001b[0mload\u001b[0m\u001b[1;33m(\u001b[0m\u001b[0margs\u001b[0m\u001b[1;33m.\u001b[0m\u001b[0mcheckpoint\u001b[0m\u001b[1;33m)\u001b[0m\u001b[1;33m\u001b[0m\u001b[1;33m\u001b[0m\u001b[0m\n",
      "\u001b[1;32mG:\\GitHub\\MSCSAM_TBD\\outsourced_models\\vae\\TransVAE-master\\scripts\\parsers.py\u001b[0m in \u001b[0;36mmodel_init\u001b[1;34m(args, params)\u001b[0m\n\u001b[0;32m     28\u001b[0m                       d_pp=args.d_property_predictor, depth_pp=args.depth_property_predictor)\n\u001b[0;32m     29\u001b[0m     \u001b[1;32melif\u001b[0m \u001b[0margs\u001b[0m\u001b[1;33m.\u001b[0m\u001b[0mmodel\u001b[0m \u001b[1;33m==\u001b[0m \u001b[1;34m'rnn'\u001b[0m\u001b[1;33m:\u001b[0m\u001b[1;33m\u001b[0m\u001b[1;33m\u001b[0m\u001b[0m\n\u001b[1;32m---> 30\u001b[1;33m         vae = RNN(params=params, name=save_name, d_model=args.d_model,\n\u001b[0m\u001b[0;32m     31\u001b[0m                   \u001b[0md_latent\u001b[0m\u001b[1;33m=\u001b[0m\u001b[0margs\u001b[0m\u001b[1;33m.\u001b[0m\u001b[0md_latent\u001b[0m\u001b[1;33m,\u001b[0m \u001b[0mproperty_predictor\u001b[0m\u001b[1;33m=\u001b[0m\u001b[0margs\u001b[0m\u001b[1;33m.\u001b[0m\u001b[0mproperty_predictor\u001b[0m\u001b[1;33m,\u001b[0m\u001b[1;33m\u001b[0m\u001b[1;33m\u001b[0m\u001b[0m\n\u001b[0;32m     32\u001b[0m                   d_pp=args.d_property_predictor, depth_pp=args.depth_property_predictor)\n",
      "\u001b[1;32mG:\\GitHub\\MSCSAM_TBD\\outsourced_models\\vae\\TransVAE-master\\transvae\\rnn_models.py\u001b[0m in \u001b[0;36m__init__\u001b[1;34m(self, params, name, N, d_model, d_latent, dropout, tf, bypass_bottleneck, property_predictor, d_pp, depth_pp, load_fn)\u001b[0m\n\u001b[0;32m    146\u001b[0m                     \u001b[0mSLURM_NODEID\u001b[0m \u001b[1;32mis\u001b[0m \u001b[1;36m0\u001b[0m \u001b[1;32mor\u001b[0m \u001b[1;36m1\u001b[0m \u001b[1;32min\u001b[0m \u001b[0mthis\u001b[0m \u001b[0mexample\u001b[0m\u001b[1;33m,\u001b[0m \u001b[0mSLURM_LOCALID\u001b[0m \u001b[1;32mis\u001b[0m \u001b[0mthe\u001b[0m \u001b[0mid\u001b[0m \u001b[0mof\u001b[0m \u001b[0mthe\u001b[0m\u001b[1;33m\u001b[0m\u001b[1;33m\u001b[0m\u001b[0m\n\u001b[0;32m    147\u001b[0m                     current process inside a node and is also 0 or 1 in this example.\"\"\"\n\u001b[1;32m--> 148\u001b[1;33m                 \u001b[0mlocal_rank\u001b[0m \u001b[1;33m=\u001b[0m \u001b[0mint\u001b[0m\u001b[1;33m(\u001b[0m\u001b[0mos\u001b[0m\u001b[1;33m.\u001b[0m\u001b[0menviron\u001b[0m\u001b[1;33m.\u001b[0m\u001b[0mget\u001b[0m\u001b[1;33m(\u001b[0m\u001b[1;34m\"SLURM_LOCALID\"\u001b[0m\u001b[1;33m)\u001b[0m\u001b[1;33m)\u001b[0m\u001b[1;33m\u001b[0m\u001b[1;33m\u001b[0m\u001b[0m\n\u001b[0m\u001b[0;32m    149\u001b[0m                 \u001b[0mrank\u001b[0m \u001b[1;33m=\u001b[0m \u001b[0mint\u001b[0m\u001b[1;33m(\u001b[0m\u001b[0mos\u001b[0m\u001b[1;33m.\u001b[0m\u001b[0menviron\u001b[0m\u001b[1;33m.\u001b[0m\u001b[0mget\u001b[0m\u001b[1;33m(\u001b[0m\u001b[1;34m\"SLURM_NODEID\"\u001b[0m\u001b[1;33m)\u001b[0m\u001b[1;33m)\u001b[0m\u001b[1;33m*\u001b[0m\u001b[0mngpus_per_node\u001b[0m \u001b[1;33m+\u001b[0m \u001b[0mlocal_rank\u001b[0m\u001b[1;33m\u001b[0m\u001b[1;33m\u001b[0m\u001b[0m\n\u001b[0;32m    150\u001b[0m \u001b[1;33m\u001b[0m\u001b[0m\n",
      "\u001b[1;31mTypeError\u001b[0m: int() argument must be a string, a bytes-like object or a number, not 'NoneType'"
     ]
    }
   ],
   "source": [
    "%run scripts/train.py --model rnn --data_source zinc --DDP True"
   ]
  },
  {
   "cell_type": "code",
   "execution_count": null,
   "id": "bfeb4017",
   "metadata": {},
   "outputs": [],
   "source": []
  }
 ],
 "metadata": {
  "kernelspec": {
   "display_name": "Python 3",
   "language": "python",
   "name": "python3"
  },
  "language_info": {
   "codemirror_mode": {
    "name": "ipython",
    "version": 3
   },
   "file_extension": ".py",
   "mimetype": "text/x-python",
   "name": "python",
   "nbconvert_exporter": "python",
   "pygments_lexer": "ipython3",
   "version": "3.8.5"
  }
 },
 "nbformat": 4,
 "nbformat_minor": 5
}
