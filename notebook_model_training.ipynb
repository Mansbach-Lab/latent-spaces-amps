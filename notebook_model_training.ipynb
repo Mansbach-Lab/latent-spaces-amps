{
 "cells": [
  {
   "attachments": {},
   "cell_type": "markdown",
   "id": "03b4e403",
   "metadata": {},
   "source": [
    "<h3> This notebook can be used to train any model using desired parser arguments from a notebook"
   ]
  },
  {
   "cell_type": "code",
   "execution_count": null,
   "id": "4e72f7e6",
   "metadata": {
    "scrolled": true
   },
   "outputs": [],
   "source": [
    "model = 'aae'\n",
    "d_model = 128\n",
    "d_feedforward = 128\n",
    "d_latent = 128\n",
    "data_source = 'peptide'\n",
    "epochs = 1\n",
    "hardware = 'gpu'\n",
    "property_predictor = 'ON'\n",
    "type_property_predictor = 'deep_net'\n",
    "train_props_path = 'data\\\\function_train.txt'\n",
    "test_props_path = 'data\\\\function_test.txt'\n",
    "#DDP\n",
    "init_method = 'file:///D:/libtmp/file'\n",
    "dist_backend = 'gloo' #on windows NCCL not supported\n",
    "DDP = 'OFF' #ON or OFF\n",
    "checkpoint = 'checkpointz//amp_aae//sunistarv3_emb128_latent32_pp_fixed//300_aae-128_peptide.ckpt'\n",
    "%run scripts/train.py --model $model --d_model $d_model --d_feedforward $d_feedforward --d_latent $d_latent --data_source $data_source --epochs $epochs --hardware $hardware --init_method $init_method --dist_backend $dist_backend --DDP $DDP --property_predictor $property_predictor --type_property_predictor $type_property_predictor --train_props_path $train_props_path --test_props_path $test_props_path \n",
    "#--checkpoint $checkpoint\n"
   ]
  }
 ],
 "metadata": {
  "kernelspec": {
   "display_name": "Python 3.8.5 ('amp21')",
   "language": "python",
   "name": "python3"
  },
  "language_info": {
   "codemirror_mode": {
    "name": "ipython",
    "version": 3
   },
   "file_extension": ".py",
   "mimetype": "text/x-python",
   "name": "python",
   "nbconvert_exporter": "python",
   "pygments_lexer": "ipython3",
   "version": "3.8.5 (default, Sep  3 2020, 21:29:08) [MSC v.1916 64 bit (AMD64)]"
  },
  "vscode": {
   "interpreter": {
    "hash": "686011dad3443993f8e7a9bdd4f15acb7c0d9d5c12f48e0b358ae8d8d9013b02"
   }
  }
 },
 "nbformat": 4,
 "nbformat_minor": 5
}
