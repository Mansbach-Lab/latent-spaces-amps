{
 "cells": [
  {
   "cell_type": "code",
   "execution_count": 26,
   "id": "3cbacb52",
   "metadata": {},
   "outputs": [
    {
     "name": "stdout",
     "output_type": "stream",
     "text": [
      "Number of sequences with only standard AA's:  22129 \t Number with non-standard AA's 2000\n"
     ]
    }
   ],
   "source": [
    "from Bio import SeqIO\n",
    "import re\n",
    "\n",
    "out_src = 'datasets/current/' #specify output folder\n",
    "\n",
    "pattern = re.compile(\"[^ARNDCEQGHILKMFPSTWYV]\") #no B asaparctic acid or Z glutamic acid (or \"X\" or \"O\")\n",
    "standard = []\n",
    "non_standard= []\n",
    "for idx, record in enumerate(SeqIO.parse(\"amp_20_pep_toolbox_raw.fasta\", \"fasta\")):\n",
    "    if pattern.search(str(record.seq)):\n",
    "        non_standard.append(idx) #saving the index of the non-standard AAs for future reference\n",
    "    else:\n",
    "        standard.append(record.seq)\n",
    "with open(out_src+'non_standard_index.txt', 'w') as f:\n",
    "    for index in non_standard: f.write(str(index)+'\\n')\n",
    "f.close()\n",
    "print(\"Number of sequences with only standard AA's: \",len(standard), \"\\t Number with non-standard AA's\",len(non_standard))"
   ]
  },
  {
   "cell_type": "code",
   "execution_count": 27,
   "id": "421e1075",
   "metadata": {},
   "outputs": [
    {
     "data": {
      "text/plain": [
       "False"
      ]
     },
     "execution_count": 27,
     "metadata": {},
     "output_type": "execute_result"
    }
   ],
   "source": [
    "len(standard) != len(set(standard)) #sets do not allow duplicate values so we check if both lists are the same size"
   ]
  },
  {
   "cell_type": "code",
   "execution_count": 28,
   "id": "3b96d7ac",
   "metadata": {},
   "outputs": [],
   "source": [
    "import random\n",
    "random.seed(0) # set the seed so shuffling is reproducible\n",
    "#saving the standard AA only list to a new file.\n",
    "file_name = 'peptide_train.txt'\n",
    "shuffled_standard = random.sample(standard, len(standard))\n",
    "\n",
    "with open(out_src+'peptide_train+test_no_shuff.txt', 'w') as f:\n",
    "    for idx, line in enumerate(standard):\n",
    "        f.write(str(line)+'\\n')\n",
    "f.close()\n",
    "\n",
    "with open(out_src+'peptide_train.txt', 'w') as f:\n",
    "    f.write('peptides'+'\\n')\n",
    "    for idx,line in enumerate(shuffled_standard):\n",
    "        if idx <round(0.05*len(shuffled_standard)):\n",
    "            continue # the first 5% will be used for testing\n",
    "        f.write(str(line)+'\\n')\n",
    "f.close()\n",
    "\n",
    "with open(out_src+'peptide_test.txt', 'w') as f:\n",
    "    f.write('peptides'+'\\n')\n",
    "    for idx,line in enumerate(shuffled_standard):\n",
    "        if idx <round(0.05*len(shuffled_standard)):\n",
    "            f.write(str(line)+'\\n')\n",
    "        else:\n",
    "            break\n",
    "f.close()"
   ]
  },
  {
   "cell_type": "code",
   "execution_count": 31,
   "id": "eadb6c46",
   "metadata": {},
   "outputs": [
    {
     "name": "stdout",
     "output_type": "stream",
     "text": [
      "building dictionary...\n",
      "calculating weights...\n",
      "{'Q': 6076, 'I': 15334, 'R': 28486, 'Y': 6334, 'H': 5580, 'C': 10150, 'F': 12360, 'N': 7035, 'P': 13650, 'S': 11806, 'W': 13507, 'K': 26099, 'T': 7037, 'G': 15678, 'A': 16316, 'D': 5878, 'V': 15533, 'L': 25306, 'E': 6011, 'M': 3605, '_': 273794, '<end>': 21023}\n"
     ]
    }
   ],
   "source": [
    "import sys\n",
    "sys.path.append('../../') #allows import from 2 dirs above the CWD\n",
    "\n",
    "inputs = 'datasets/current/peptide_train.txt'\n",
    "max_len = 25\n",
    "save_dir = out_src\n",
    "vocab_name = 'char_dict_peptide'\n",
    "weights_name = 'char_weights_peptide'\n",
    "\n",
    "%run ../../scripts/build_vocab.py --inputs $inputs --max_len $max_len --save_dir $save_dir --vocab_name $vocab_name --weights_name $weights_name"
   ]
  },
  {
   "cell_type": "code",
   "execution_count": null,
   "id": "6b68944f",
   "metadata": {},
   "outputs": [],
   "source": []
  }
 ],
 "metadata": {
  "kernelspec": {
   "display_name": "Python 3",
   "language": "python",
   "name": "python3"
  },
  "language_info": {
   "codemirror_mode": {
    "name": "ipython",
    "version": 3
   },
   "file_extension": ".py",
   "mimetype": "text/x-python",
   "name": "python",
   "nbconvert_exporter": "python",
   "pygments_lexer": "ipython3",
   "version": "3.8.5"
  }
 },
 "nbformat": 4,
 "nbformat_minor": 5
}
