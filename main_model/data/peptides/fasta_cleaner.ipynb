{
 "cells": [
  {
   "cell_type": "code",
   "execution_count": 8,
   "id": "3cbacb52",
   "metadata": {},
   "outputs": [
    {
     "name": "stdout",
     "output_type": "stream",
     "text": [
      "Number of sequences with only standard AA's:  453645 \t Number with non-standard AA's 2108\n"
     ]
    }
   ],
   "source": [
    "from Bio import SeqIO\n",
    "import re\n",
    "pattern = re.compile(\"[^ARNDCEQGHILKMFPSTWYV]\") #no B asaparctic acid or Z glutamic acid (or \"X\" or \"O\")\n",
    "standard = []\n",
    "non_standard= []\n",
    "for idx, record in enumerate(SeqIO.parse(\"500_fasta.fasta\", \"fasta\")):\n",
    "    if pattern.search(str(record.seq)):\n",
    "        non_standard.append(record.seq)\n",
    "    else:\n",
    "        standard.append(record.seq)\n",
    "print(\"Number of sequences with only standard AA's: \",len(standard), \"\\t Number with non-standard AA's\",len(non_standard))"
   ]
  },
  {
   "cell_type": "code",
   "execution_count": 15,
   "id": "3b96d7ac",
   "metadata": {},
   "outputs": [],
   "source": [
    "import random\n",
    "#saving the standard AA only list to a new file.\n",
    "file_name = 'peptide_train.txt'\n",
    "shuffled_standard = random.sample(standard, len(standard))\n",
    "with open('peptide_train.txt', 'w') as f:\n",
    "    for idx,line in enumerate(shuffled_standard):\n",
    "        if idx <20_000:\n",
    "            continue # the first 20'000 will be used for testing\n",
    "        f.write(str(line)+'\\n')\n",
    "f.close()\n",
    "\n",
    "with open('peptide_test.txt', 'w') as f:\n",
    "    for idx,line in enumerate(shuffled_standard):\n",
    "        if idx <20_000:\n",
    "            f.write(str(line)+'\\n')\n",
    "        else:\n",
    "            break\n",
    "f.close()\n",
    "\n",
    "with open('peptide_complete.txt', 'w') as f:\n",
    "    for idx,line in enumerate(shuffled_standard):\n",
    "        f.write(str(line)+'\\n') \n",
    "f.close()\n",
    "\n"
   ]
  },
  {
   "cell_type": "code",
   "execution_count": 16,
   "id": "d7a63251",
   "metadata": {},
   "outputs": [],
   "source": [
    "#job iD: 1630949481\n",
    "#http://weizhong-lab.ucsd.edu/cdhit-web-server/cgi-bin/result.cgi?JOBID=1630949481\n",
    "\n",
    "#save the mean for the cluster as well somewhere \n",
    "\n",
    "src = 'cd_hit/sorted_by_size.sorted'\n",
    "cluster_list = []\n",
    "tuple_list = []\n",
    "mean_list = []\n",
    "idx = 0\n",
    "with open(src, 'r') as f:\n",
    "    for line in f:\n",
    "        if '>Cluster' in line:\n",
    "            if int(line.strip('>Cluster '))>idx :\n",
    "                cluster_list.append([tuple_list])\n",
    "                pct_list = [pct[1] for pct in tuple_list]\n",
    "                mean_list.append(sum(pct_list)/len(pct_list))\n",
    "                tuple_list=[]\n",
    "                idx = idx+1\n",
    "        else:\n",
    "            if '*' in line:\n",
    "                tuple_list.append((line.split('|')[1],float('100')))\n",
    "                continue\n",
    "            tuple_list.append((line.split('|')[1],float(line.strip('%\\n').split('at ')[1])))\n"
   ]
  },
  {
   "cell_type": "code",
   "execution_count": 22,
   "id": "7a52fcc3",
   "metadata": {},
   "outputs": [
    {
     "data": {
      "text/plain": [
       "(array([ 485., 2625., 3721., 4651., 5339., 6744., 5562., 4815., 4195.,\n",
       "        6863.]),\n",
       " array([ 52.4484507 ,  57.20360563,  61.95876056,  66.71391549,\n",
       "         71.46907042,  76.22422535,  80.97938028,  85.73453521,\n",
       "         90.48969014,  95.24484507, 100.        ]),\n",
       " <BarContainer object of 10 artists>)"
      ]
     },
     "execution_count": 22,
     "metadata": {},
     "output_type": "execute_result"
    },
    {
     "data": {
      "image/png": "[encoded data removed]",
      "text/plain": [
       "<Figure size 432x288 with 1 Axes>"
      ]
     },
     "metadata": {
      "needs_background": "light"
     },
     "output_type": "display_data"
    }
   ],
   "source": [
    "#this shows that increasing the % identity to ~75 would yield more unique peptides, this image does not portray well that\n",
    "#clusters with lower mean % identity tend to contain a much larger number of proteins.\n",
    "import matplotlib.pyplot as plt\n",
    "plt.hist(mean_list[0:45000])"
   ]
  },
  {
   "cell_type": "code",
   "execution_count": null,
   "id": "9d368679",
   "metadata": {},
   "outputs": [],
   "source": []
  }
 ],
 "metadata": {
  "kernelspec": {
   "display_name": "Python 3",
   "language": "python",
   "name": "python3"
  },
  "language_info": {
   "codemirror_mode": {
    "name": "ipython",
    "version": 3
   },
   "file_extension": ".py",
   "mimetype": "text/x-python",
   "name": "python",
   "nbconvert_exporter": "python",
   "pygments_lexer": "ipython3",
   "version": "3.8.5"
  }
 },
 "nbformat": 4,
 "nbformat_minor": 5
}
