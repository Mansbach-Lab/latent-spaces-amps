{
 "cells": [
  {
   "cell_type": "code",
   "execution_count": 1,
   "id": "4e72f7e6",
   "metadata": {},
   "outputs": [
    {
     "name": "stdout",
     "output_type": "stream",
     "text": [
      "main function called /n\n",
      "train_parser function called /n\n",
      "train function called /n\n",
      "parser model_init called /n\n",
      "VAE_shell init called /n\n",
      "here\n",
      "128 [640, 256]\n",
      "VAE_Shell train called /n\n"
     ]
    },
    {
     "name": "stderr",
     "output_type": "stream",
     "text": [
      "G:\\Anaconda\\envs\\amp21\\lib\\site-packages\\torch\\cuda\\__init__.py:52: UserWarning: CUDA initialization: Found no NVIDIA driver on your system. Please check that you have an NVIDIA GPU and installed a driver from http://www.nvidia.com/Download/index.aspx (Triggered internally at  ..\\c10\\cuda\\CUDAFunctions.cpp:100.)\n",
      "  return torch._C._cuda_getDeviceCount() > 0\n"
     ]
    },
    {
     "name": "stdout",
     "output_type": "stream",
     "text": [
      "aae loss !\n",
      "tensor([ 0,  1,  1, 10,  1,  4,  7, 10,  5,  1,  3,  1,  1,  6,  4,  8,  4,  7,\n",
      "        10,  5]) tensor([[-1.4875, -0.0918, -1.3477, -0.1605,  2.4359,  1.3829, -0.2751,  0.5519,\n",
      "          2.4963,  1.9588,  0.1966, -1.1822, -2.4521, -0.5377,  0.7534,  1.8455,\n",
      "         -2.6454, -0.9596, -0.6911, -0.0164, -2.6034, -0.0494, -0.1386,  1.8933,\n",
      "         -0.1032],\n",
      "        [-2.9637, -0.6594, -1.1680, -0.8854,  4.1189,  0.3287,  0.5010,  0.5453,\n",
      "          1.9408,  0.9707,  0.3125, -0.6765, -1.7988, -0.9755,  0.4875,  1.6303,\n",
      "         -1.7630, -2.4024, -0.1237, -0.7559, -2.0484, -0.6692,  0.6973,  2.5514,\n",
      "         -0.1954],\n",
      "        [-2.6082, -0.3140, -0.7899, -0.8934,  4.4845,  0.4908, -0.0352,  1.1340,\n",
      "          1.2106,  0.1174,  0.7145, -0.0182, -0.9580, -1.5221,  0.2192,  1.0868,\n",
      "         -0.4887, -2.2661, -0.0554, -0.3933, -1.5796,  0.1237,  1.8421,  1.8378,\n",
      "          0.6683],\n",
      "        [-2.5469, -0.3095, -1.6615, -1.3567,  3.9091,  0.3300,  0.5869,  1.7356,\n",
      "          1.2845, -1.1517,  0.8024,  0.1138, -1.3993, -1.0393,  0.3588,  1.0704,\n",
      "         -0.5321, -2.5260,  0.4384, -0.9691, -1.7862, -0.6769,  1.8036,  1.7766,\n",
      "          0.4899],\n",
      "        [-2.3958, -0.0279, -0.9290, -1.5968,  4.2366,  0.2647,  0.3653,  1.4426,\n",
      "          1.2812, -1.3299,  1.2097,  0.3943, -1.7146, -0.9993, -0.0478,  1.4615,\n",
      "         -0.2590, -2.6234,  0.1884, -0.5606, -1.3082, -1.0850,  1.6470,  1.8173,\n",
      "          0.1408],\n",
      "        [-2.4626,  0.4619, -0.7098, -1.3617,  4.0686, -0.0426,  0.5542,  1.2456,\n",
      "          1.5912, -1.4842,  1.5400,  0.7066, -1.5452, -0.4029, -0.6686,  1.2975,\n",
      "         -0.4927, -2.3075,  0.6717, -0.8382, -0.6834, -0.9881,  1.7117,  1.5848,\n",
      "         -0.1835],\n",
      "        [-2.2281,  0.2765, -0.4385, -1.3637,  3.7392, -0.0865,  0.7291,  1.1523,\n",
      "          1.6222, -1.9141,  1.6449,  0.6176, -1.8288, -0.1532, -0.9998,  1.4598,\n",
      "         -0.7592, -2.3559,  0.5518, -1.1623, -0.5383, -1.1058,  1.9163,  1.1125,\n",
      "         -0.0811],\n",
      "        [-1.8425,  0.4468, -0.2035, -1.2260,  3.3239, -0.2633,  0.3026,  1.0886,\n",
      "          1.8347, -2.2660,  1.4396,  0.4992, -2.1552, -0.2958, -0.8668,  1.2105,\n",
      "         -0.8445, -1.8550,  0.9653, -0.9218, -0.2653, -1.0059,  1.7054,  0.6538,\n",
      "         -0.2336],\n",
      "        [-1.9379,  0.7365, -0.1291, -0.9612,  3.2575, -0.2079,  0.1858,  1.3859,\n",
      "          2.0922, -2.0414,  0.5112,  0.5267, -2.0244,  0.5942, -0.7766,  1.3703,\n",
      "         -0.9881, -1.7671,  0.7574, -0.6190, -0.4195, -1.4217,  1.6656,  0.2257,\n",
      "         -0.8357],\n",
      "        [-1.7902,  0.4151,  0.1115, -1.0055,  3.5294, -0.4985,  0.2847,  1.2998,\n",
      "          2.0016, -1.7346,  0.5959,  0.6017, -1.8311,  0.1547, -0.6731,  1.3680,\n",
      "         -1.3640, -1.8256,  0.9736, -0.7147,  0.0950, -1.4908,  1.4177,  0.5591,\n",
      "         -0.6443],\n",
      "        [-1.5509,  0.9083, -0.1177, -1.2797,  3.7351, -0.5944,  0.7946,  1.7602,\n",
      "          2.4034, -2.3613,  0.5476,  0.7120, -1.3942, -0.3357, -0.7647,  1.0054,\n",
      "         -0.9024, -1.4635,  1.0502, -0.1635, -0.0748, -2.0563,  1.3720,  0.9695,\n",
      "         -0.8291],\n",
      "        [-1.2878,  1.3452, -0.6206, -1.3246,  3.8778, -0.5310,  0.9073,  1.6464,\n",
      "          2.5515, -2.6161,  0.4625,  0.8937, -1.8434, -0.7986, -0.6445,  0.7855,\n",
      "         -0.1704, -1.6160,  1.0384,  0.1802, -0.1007, -2.0082,  1.7510,  0.8551,\n",
      "         -0.9710],\n",
      "        [-1.6056,  0.9685, -1.1653, -1.6943,  4.0125, -0.7616,  0.6784,  1.6583,\n",
      "          2.1724, -2.3629,  0.4643,  0.7193, -1.5529, -0.5197, -0.3886,  1.3410,\n",
      "         -0.1596, -2.3403,  1.0924, -0.1546, -0.5503, -2.2721,  1.8008,  1.1865,\n",
      "         -0.8938],\n",
      "        [-1.8127,  0.5383, -0.8399, -1.1559,  4.1356, -0.3054,  0.8545,  1.8013,\n",
      "          2.4857, -2.3122,  0.2994,  0.8750, -1.2137, -0.4225, -0.4335,  1.0688,\n",
      "         -0.8099, -2.3272,  0.9487, -0.2374, -0.4681, -1.6764,  1.7292,  1.3450,\n",
      "         -0.4594],\n",
      "        [-1.6117,  0.7246, -0.4231, -0.9165,  3.6812, -0.3022,  1.0256,  2.0419,\n",
      "          2.8742, -2.4096,  0.9437,  0.8026, -0.8679,  0.6479, -0.5638,  0.9121,\n",
      "         -0.9152, -2.8001,  0.5281, -0.7454, -0.2148, -1.3442,  1.9914,  0.9682,\n",
      "         -0.5710],\n",
      "        [-2.2528,  0.4984, -0.4764, -0.9165,  3.2595, -0.5254,  0.6431,  1.7497,\n",
      "          2.9529, -1.8281,  1.4366,  0.1619, -0.5712,  0.7924, -1.0671,  0.5263,\n",
      "         -0.9805, -2.4423, -0.1866, -1.2771, -0.3061, -1.1073,  1.8606,  0.8481,\n",
      "         -0.1853],\n",
      "        [-2.6783,  0.5103, -0.1146, -0.5474,  3.2131, -0.4122,  0.8329,  1.5910,\n",
      "          2.9424, -1.5635,  1.3770,  0.0618, -0.3263,  1.0760, -1.4638,  0.8065,\n",
      "         -1.1735, -2.2431, -0.0938, -1.5620, -0.1482, -1.1657,  2.0640,  0.9296,\n",
      "          0.0155],\n",
      "        [-2.5541,  0.5090,  0.1238, -0.5670,  3.3300, -0.6326,  0.7194,  1.2696,\n",
      "          2.6984, -1.3763,  1.4652, -0.1631, -0.8616,  0.4985, -1.2158,  0.6387,\n",
      "         -0.9588, -2.4037,  0.1031, -1.5059, -0.2602, -1.2744,  1.6316,  0.8420,\n",
      "          0.0625],\n",
      "        [-2.0252,  0.5913,  0.1781, -0.2652,  3.2665, -0.1952,  1.2151,  1.4233,\n",
      "          3.0543, -2.0645,  1.2439, -0.1582, -1.4527,  0.5245, -1.0874,  0.9333,\n",
      "         -1.6394, -2.4680,  0.3033, -1.5700, -0.6462, -1.6290,  1.8228,  0.8805,\n",
      "         -0.2828],\n",
      "        [-1.8920, -0.0474,  0.2768, -0.1066,  3.5059, -0.5451,  1.3864,  1.2598,\n",
      "          2.7099, -1.7597,  0.2650,  0.2848, -1.4032,  0.6714, -0.5218,  0.8257,\n",
      "         -1.7895, -1.8439,  0.1132, -1.1246, -0.5020, -1.5901,  1.1702,  0.7734,\n",
      "         -0.5081]], grad_fn=<SliceBackward>)\n"
     ]
    },
    {
     "ename": "UnboundLocalError",
     "evalue": "local variable 'decoder_outputs' referenced before assignment",
     "output_type": "error",
     "traceback": [
      "\u001b[1;31m---------------------------------------------------------------------------\u001b[0m",
      "\u001b[1;31mUnboundLocalError\u001b[0m                         Traceback (most recent call last)",
      "\u001b[1;32mG:\\GitHub\\MSCSAM_TBD\\outsourced_models\\vae\\debugging\\scripts\\train.py\u001b[0m in \u001b[0;36m<module>\u001b[1;34m\u001b[0m\n\u001b[0;32m     97\u001b[0m     \u001b[0mparser\u001b[0m \u001b[1;33m=\u001b[0m \u001b[0mtrain_parser\u001b[0m\u001b[1;33m(\u001b[0m\u001b[1;33m)\u001b[0m\u001b[1;33m\u001b[0m\u001b[1;33m\u001b[0m\u001b[0m\n\u001b[0;32m     98\u001b[0m     \u001b[0margs\u001b[0m \u001b[1;33m=\u001b[0m \u001b[0mparser\u001b[0m\u001b[1;33m.\u001b[0m\u001b[0mparse_args\u001b[0m\u001b[1;33m(\u001b[0m\u001b[1;33m)\u001b[0m\u001b[1;33m\u001b[0m\u001b[1;33m\u001b[0m\u001b[0m\n\u001b[1;32m---> 99\u001b[1;33m     \u001b[0mtrain\u001b[0m\u001b[1;33m(\u001b[0m\u001b[0margs\u001b[0m\u001b[1;33m)\u001b[0m\u001b[1;33m\u001b[0m\u001b[1;33m\u001b[0m\u001b[0m\n\u001b[0m",
      "\u001b[1;32mG:\\GitHub\\MSCSAM_TBD\\outsourced_models\\vae\\debugging\\scripts\\train.py\u001b[0m in \u001b[0;36mtrain\u001b[1;34m(args)\u001b[0m\n\u001b[0;32m     89\u001b[0m     \u001b[1;32mif\u001b[0m \u001b[0margs\u001b[0m\u001b[1;33m.\u001b[0m\u001b[0mcheckpoint\u001b[0m \u001b[1;32mis\u001b[0m \u001b[1;32mnot\u001b[0m \u001b[1;32mNone\u001b[0m\u001b[1;33m:\u001b[0m\u001b[1;33m\u001b[0m\u001b[1;33m\u001b[0m\u001b[0m\n\u001b[0;32m     90\u001b[0m         \u001b[0mvae\u001b[0m\u001b[1;33m.\u001b[0m\u001b[0mload\u001b[0m\u001b[1;33m(\u001b[0m\u001b[0margs\u001b[0m\u001b[1;33m.\u001b[0m\u001b[0mcheckpoint\u001b[0m\u001b[1;33m)\u001b[0m\u001b[1;33m\u001b[0m\u001b[1;33m\u001b[0m\u001b[0m\n\u001b[1;32m---> 91\u001b[1;33m     vae.train(train_mols, test_mols, train_props, test_props,\n\u001b[0m\u001b[0;32m     92\u001b[0m               epochs=args.epochs, save_freq=args.save_freq)\n\u001b[0;32m     93\u001b[0m \u001b[1;33m\u001b[0m\u001b[0m\n",
      "\u001b[1;32mG:\\GitHub\\MSCSAM_TBD\\outsourced_models\\vae\\debugging\\transvae\\trans_models.py\u001b[0m in \u001b[0;36mtrain\u001b[1;34m(self, train_mols, val_mols, train_props, val_props, epochs, save, save_freq, log, log_dir)\u001b[0m\n\u001b[0;32m    267\u001b[0m                         \u001b[0mx_out\u001b[0m\u001b[1;33m,\u001b[0m \u001b[0mmu\u001b[0m\u001b[1;33m,\u001b[0m \u001b[0mlogvar\u001b[0m\u001b[1;33m,\u001b[0m \u001b[0mpred_prop\u001b[0m \u001b[1;33m=\u001b[0m \u001b[0mself\u001b[0m\u001b[1;33m.\u001b[0m\u001b[0mmodel\u001b[0m\u001b[1;33m(\u001b[0m\u001b[0msrc\u001b[0m\u001b[1;33m,\u001b[0m \u001b[0mtgt\u001b[0m\u001b[1;33m,\u001b[0m \u001b[0msrc_mask\u001b[0m\u001b[1;33m,\u001b[0m \u001b[0mtgt_mask\u001b[0m\u001b[1;33m)\u001b[0m\u001b[1;33m\u001b[0m\u001b[1;33m\u001b[0m\u001b[0m\n\u001b[0;32m    268\u001b[0m                         \u001b[1;32mif\u001b[0m \u001b[0mself\u001b[0m\u001b[1;33m.\u001b[0m\u001b[0mmodel_type\u001b[0m \u001b[1;33m==\u001b[0m \u001b[1;34m'aae'\u001b[0m\u001b[1;33m:\u001b[0m \u001b[0mself\u001b[0m\u001b[1;33m.\u001b[0m\u001b[0mloss_func\u001b[0m \u001b[1;33m=\u001b[0m \u001b[0maae_loss\u001b[0m\u001b[1;33m\u001b[0m\u001b[1;33m\u001b[0m\u001b[0m\n\u001b[1;32m--> 269\u001b[1;33m                         loss, bce, kld, prop_mse = self.loss_func(src, x_out, mu, logvar,\n\u001b[0m\u001b[0;32m    270\u001b[0m                                                                   \u001b[0mtrue_prop\u001b[0m\u001b[1;33m,\u001b[0m \u001b[0mpred_prop\u001b[0m\u001b[1;33m,\u001b[0m\u001b[1;33m\u001b[0m\u001b[1;33m\u001b[0m\u001b[0m\n\u001b[0;32m    271\u001b[0m                                                                   \u001b[0mself\u001b[0m\u001b[1;33m.\u001b[0m\u001b[0mparams\u001b[0m\u001b[1;33m[\u001b[0m\u001b[1;34m'CHAR_WEIGHTS'\u001b[0m\u001b[1;33m]\u001b[0m\u001b[1;33m,\u001b[0m\u001b[1;33m\u001b[0m\u001b[1;33m\u001b[0m\u001b[0m\n",
      "\u001b[1;32mG:\\GitHub\\MSCSAM_TBD\\outsourced_models\\vae\\debugging\\transvae\\loss.py\u001b[0m in \u001b[0;36maae_loss\u001b[1;34m(x, x_out, mu, logvar, true_prop, pred_prop, weights, beta)\u001b[0m\n\u001b[0;32m     47\u001b[0m \u001b[1;33m\u001b[0m\u001b[0m\n\u001b[0;32m     48\u001b[0m     decoder_outputs = torch.cat(\n\u001b[1;32m---> 49\u001b[1;33m                 [t[:l] for t, l in zip(decoder_outputs,\n\u001b[0m\u001b[0;32m     50\u001b[0m                         decoder_output_lengths)], dim=0)\n\u001b[0;32m     51\u001b[0m     decoder_targets = torch.cat(\n",
      "\u001b[1;31mUnboundLocalError\u001b[0m: local variable 'decoder_outputs' referenced before assignment"
     ]
    }
   ],
   "source": [
    "%run scripts/train.py --model rnn --data_source zinc --epochs 1"
   ]
  },
  {
   "cell_type": "code",
   "execution_count": null,
   "id": "9bef6e23",
   "metadata": {},
   "outputs": [],
   "source": [
    "from scripts.train import train\n",
    "from transvae import rnn_models\n",
    "from transvae import trans_models\n",
    "\n",
    "\n",
    "class Args():\n",
    "    checkpoint=None\n",
    "    adam_lr=3e-4\n",
    "    anneal_start=0\n",
    "    batch_chunks=5\n",
    "    batch_size=1000\n",
    "    beta=0.05\n",
    "    beta_init=1e-8\n",
    "    eps_scale=1\n",
    "    lr_scale=1\n",
    "    warmup_steps=10000\n",
    "    property_predictor=False\n",
    "    save_name=None\n",
    "    d_model=128\n",
    "    d_latent=128\n",
    "    d_property_predictor=256\n",
    "    depth_property_predictor=2\n",
    "    epochs=2\n",
    "    save_freq=5\n",
    "    model = \"rnn\"\n",
    "    data_source = \"zinc\"\n",
    "\n",
    "args = Args()\n",
    "train(args)"
   ]
  },
  {
   "cell_type": "code",
   "execution_count": null,
   "id": "3da6e9f6",
   "metadata": {},
   "outputs": [],
   "source": [
    "import pandas as pd\n",
    "import numpy as np\n",
    "df = pd.read_pickle(\"data\\char_dict_zinc.pkl\") #the dict is just a mapping for each possible smile token to an int\n",
    "weights = np.load(\"data\\char_weights_zinc.npy\") \n",
    "train = pd.read_csv('data\\zinc_complete\\zinc_train.txt').to_numpy()\n",
    "from transvae import tvae_util\n",
    "\n",
    "\n"
   ]
  },
  {
   "cell_type": "code",
   "execution_count": null,
   "id": "51b5830c",
   "metadata": {},
   "outputs": [],
   "source": [
    "#print(df, weights)\n",
    "\n",
    "print(\"with start and end: \",df)\n",
    "df = {i:df[i] for i in df if i!='<end>'}\n",
    "df = {i:df[i] for i in df if i!='<start>'}\n",
    "print(\"withOUT start and end: \",df)\n",
    "\n",
    "parameters_class = {\"NUM_CHAR\" : 24,  \"CHAR_DICT\" : df, \"MAX_LENGTH\" : 126 } \n",
    "params = parameters_class\n",
    "\n",
    "smiles = []\n",
    "for smile in train:\n",
    "    smiles.append(tvae_util.smi_tokenizer(smile[0]))\n",
    "print(smiles[0])\n",
    "\n",
    "char_weights = tvae_util.get_char_weights(smiles,params)\n",
    "print(char_weights)"
   ]
  },
  {
   "cell_type": "code",
   "execution_count": null,
   "id": "a78c94bd",
   "metadata": {},
   "outputs": [],
   "source": [
    "print(weights)"
   ]
  },
  {
   "cell_type": "code",
   "execution_count": null,
   "id": "a7fdd8f3",
   "metadata": {},
   "outputs": [],
   "source": [
    "import pandas as pd\n",
    "import numpy as np\n",
    "pep = pd.read_csv('data/peptides/1_to_50_reviewed_seq_only.fasta').to_numpy()"
   ]
  },
  {
   "cell_type": "code",
   "execution_count": null,
   "id": "cd242ae6",
   "metadata": {},
   "outputs": [],
   "source": [
    "#inspired by the Trans-Vae tokenizer\n",
    "def peptide_tokenizer(peptide):\n",
    "    \"Tokenizes SMILES string\"\n",
    "    #need to remove \"X\", \"B\", \"Z\", \"U\"\n",
    "    pattern =  \"(G|A|L|M|F|W|K|Q|E|S|P|V|I|C|Y|H|R|N|D|T|X|B|Z|U)\"\n",
    "    regezz = re.compile(pattern)\n",
    "    tokens = [token for token in regezz.findall(peptide)]\n",
    "    assert peptide == ''.join(tokens), (\"{} could not be joined\".format(peptide))\n",
    "    return tokens"
   ]
  },
  {
   "cell_type": "code",
   "execution_count": null,
   "id": "4f5d56a7",
   "metadata": {},
   "outputs": [],
   "source": [
    "import re\n",
    "peptides = []\n",
    "for peptide in pep:\n",
    "    peptides.append(peptide_tokenizer(peptide[0]))\n",
    "print(peptides[0], \"longest\", longest)\n",
    "\n"
   ]
  },
  {
   "cell_type": "code",
   "execution_count": null,
   "id": "b08c2f5c",
   "metadata": {},
   "outputs": [],
   "source": [
    "pep_dict = {\"G\": 1, \"A\":2, \"L\":3,\"M\":4,\"F\":5,\"W\":6,\"K\":7,\"Q\":8,\"E\":9,\"S\":10,\"P\":11,\"V\":12,\"I\":13,\"C\":14,\"Y\":15,\"H\":16,\"R\":17,\"N\":18,\"D\":19,\"T\":20,\"X\":21,\"B\":22,\"Z\":23,\"U\":24}\n",
    "parameters = {\"NUM_CHAR\" : 24,  \"CHAR_DICT\" : pep_dict, \"MAX_LENGTH\" : 50 } \n",
    "\n",
    "\n",
    "char_weights = tvae_util.get_char_weights(peptides,parameters)\n"
   ]
  },
  {
   "cell_type": "code",
   "execution_count": null,
   "id": "1fbc09a1",
   "metadata": {},
   "outputs": [],
   "source": [
    "import transvae\n",
    "import os\n",
    "path = os.path.abspath(transvae.__file__)\n",
    "path"
   ]
  },
  {
   "cell_type": "code",
   "execution_count": null,
   "id": "f4212d7b",
   "metadata": {},
   "outputs": [],
   "source": [
    "from torch.nn.parallel import DistributedDataParallel as DDP"
   ]
  },
  {
   "cell_type": "code",
   "execution_count": null,
   "id": "8b0d30b6",
   "metadata": {},
   "outputs": [],
   "source": [
    "%run scripts/train.py --model rnn --data_source zinc --DDP True"
   ]
  },
  {
   "cell_type": "code",
   "execution_count": null,
   "id": "bfeb4017",
   "metadata": {},
   "outputs": [],
   "source": []
  }
 ],
 "metadata": {
  "kernelspec": {
   "display_name": "Python 3",
   "language": "python",
   "name": "python3"
  },
  "language_info": {
   "codemirror_mode": {
    "name": "ipython",
    "version": 3
   },
   "file_extension": ".py",
   "mimetype": "text/x-python",
   "name": "python",
   "nbconvert_exporter": "python",
   "pygments_lexer": "ipython3",
   "version": "3.8.5"
  }
 },
 "nbformat": 4,
 "nbformat_minor": 5
}
