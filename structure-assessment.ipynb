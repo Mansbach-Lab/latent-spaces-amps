{
 "cells": [
  {
   "cell_type": "markdown",
   "metadata": {},
   "source": [
    "# Structural Assessment of Latent Space\n",
    "We want to be able to test whether the latent space has any structural ordering.  This is rather complicated because it necessitates finding or predicting 3D structures of short(ish) peptides from sequences.  We first write code to check against the PDB to see if an experimental structure exists. We then need to interface with a prediction tool (there are several prediction servers for short peptides and alphafold2 or similar for longer peptides -- really seems like we would want to write a function to query structural similarity \"around\" a specific point in the latent space.)"
   ]
  },
  {
   "cell_type": "code",
   "execution_count": 129,
   "metadata": {},
   "outputs": [
    {
     "name": "stderr",
     "output_type": "stream",
     "text": [
      "/home/mansbach/.conda/envs/mdlearnenv/lib/python3.8/site-packages/ipykernel/ipkernel.py:287: DeprecationWarning: `should_run_async` will not call `transform_cell` automatically in the future. Please pass the result to `transformed_cell` argument and any exception that happen during thetransform in `preprocessing_exc_tuple` in IPython 7.17 and above.\n",
      "  and should_run_async(code)\n"
     ]
    }
   ],
   "source": [
    "from pypdb import *\n",
    "import Bio\n",
    "from Bio.PDB import PDBList\n",
    "import mdtraj as md\n",
    "import nglview as nv\n",
    "import pdb\n",
    "import time"
   ]
  },
  {
   "cell_type": "code",
   "execution_count": null,
   "metadata": {},
   "outputs": [],
   "source": [
    "class Peptide:\n",
    "    def __init__(self,seq):\n",
    "        self.sequence = seq\n",
    "        self.structuretraj = None\n",
    "    def strucFromPDB(self):\n",
    "        q = Query(self.sequence,query_type(\"sequence\",return_type=\"polymer_entity\"))"
   ]
  },
  {
   "cell_type": "markdown",
   "metadata": {},
   "source": [
    "### Access sequence data"
   ]
  },
  {
   "cell_type": "code",
   "execution_count": 2,
   "metadata": {},
   "outputs": [
    {
     "name": "stderr",
     "output_type": "stream",
     "text": [
      "/home/mansbach/.conda/envs/mdlearnenv/lib/python3.8/site-packages/ipykernel/ipkernel.py:287: DeprecationWarning: `should_run_async` will not call `transform_cell` automatically in the future. Please pass the result to `transformed_cell` argument and any exception that happen during thetransform in `preprocessing_exc_tuple` in IPython 7.17 and above.\n",
      "  and should_run_async(code)\n"
     ]
    }
   ],
   "source": [
    "data = './data/peptides/datasets/starpep_maxlength100_dataset/peptide_combined_no_shuff.txt'\n",
    "seqf = open(data,'r')\n",
    "dirtyseqs = seqf.readlines()\n",
    "seqs = [seq.rstrip() for seq in dirtyseqs]"
   ]
  },
  {
   "cell_type": "markdown",
   "metadata": {},
   "source": [
    "### Demo query PDB for existence of experimental structure"
   ]
  },
  {
   "cell_type": "code",
   "execution_count": 98,
   "metadata": {},
   "outputs": [
    {
     "name": "stderr",
     "output_type": "stream",
     "text": [
      "/home/mansbach/.conda/envs/mdlearnenv/lib/python3.8/site-packages/ipykernel/ipkernel.py:287: DeprecationWarning: `should_run_async` will not call `transform_cell` automatically in the future. Please pass the result to `transformed_cell` argument and any exception that happen during thetransform in `preprocessing_exc_tuple` in IPython 7.17 and above.\n",
      "  and should_run_async(code)\n"
     ]
    }
   ],
   "source": [
    "q = Query(seqs[0],query_type=\"sequence\",return_type=\"polymer_entity\")\n",
    "sq = q.search()"
   ]
  },
  {
   "cell_type": "code",
   "execution_count": 4,
   "metadata": {},
   "outputs": [
    {
     "name": "stdout",
     "output_type": "stream",
     "text": [
      "['1BH1_1', '2MW6_1', '6DST_1', '2MLT_1', '3QRX_2', '6O4M_2']\n"
     ]
    },
    {
     "name": "stderr",
     "output_type": "stream",
     "text": [
      "/home/mansbach/.conda/envs/mdlearnenv/lib/python3.8/site-packages/ipykernel/ipkernel.py:287: DeprecationWarning: `should_run_async` will not call `transform_cell` automatically in the future. Please pass the result to `transformed_cell` argument and any exception that happen during thetransform in `preprocessing_exc_tuple` in IPython 7.17 and above.\n",
      "  and should_run_async(code)\n"
     ]
    }
   ],
   "source": [
    "#get all sequence/entity IDs with 100% match\n",
    "pdbids = []\n",
    "for result in sq['result_set']:\n",
    "    if result['services'][0]['nodes'][0]['match_context'][0]['sequence_identity'] == 1.0:\n",
    "        pdbids.append(result['identifier'])\n",
    "print(pdbids)"
   ]
  },
  {
   "cell_type": "code",
   "execution_count": 20,
   "metadata": {},
   "outputs": [
    {
     "name": "stderr",
     "output_type": "stream",
     "text": [
      "/home/mansbach/.conda/envs/mdlearnenv/lib/python3.8/site-packages/ipykernel/ipkernel.py:287: DeprecationWarning: `should_run_async` will not call `transform_cell` automatically in the future. Please pass the result to `transformed_cell` argument and any exception that happen during thetransform in `preprocessing_exc_tuple` in IPython 7.17 and above.\n",
      "  and should_run_async(code)\n",
      "/home/mansbach/.conda/envs/mdlearnenv/lib/python3.8/site-packages/pypdb/pypdb.py:486: DeprecationWarning: The `get_pdb_file` function within pypdb.py is deprecated.See `pypdb/clients/pdb/pdb_client.py` for a near-identical function to use\n",
      "  warnings.warn(\n"
     ]
    },
    {
     "name": "stdout",
     "output_type": "stream",
     "text": [
      "Sending GET request to https://files.rcsb.org/download/1BH1.pdb to fetch 1BH1's pdb file as a string.\n"
     ]
    },
    {
     "name": "stderr",
     "output_type": "stream",
     "text": [
      "/home/mansbach/.conda/envs/mdlearnenv/lib/python3.8/site-packages/pypdb/pypdb.py:486: DeprecationWarning: The `get_pdb_file` function within pypdb.py is deprecated.See `pypdb/clients/pdb/pdb_client.py` for a near-identical function to use\n",
      "  warnings.warn(\n"
     ]
    },
    {
     "name": "stdout",
     "output_type": "stream",
     "text": [
      "Sending GET request to https://files.rcsb.org/download/2MW6.pdb to fetch 2MW6's pdb file as a string.\n"
     ]
    },
    {
     "name": "stderr",
     "output_type": "stream",
     "text": [
      "/home/mansbach/.conda/envs/mdlearnenv/lib/python3.8/site-packages/pypdb/pypdb.py:486: DeprecationWarning: The `get_pdb_file` function within pypdb.py is deprecated.See `pypdb/clients/pdb/pdb_client.py` for a near-identical function to use\n",
      "  warnings.warn(\n"
     ]
    },
    {
     "name": "stdout",
     "output_type": "stream",
     "text": [
      "Sending GET request to https://files.rcsb.org/download/6DST.pdb to fetch 6DST's pdb file as a string.\n"
     ]
    },
    {
     "name": "stderr",
     "output_type": "stream",
     "text": [
      "/home/mansbach/.conda/envs/mdlearnenv/lib/python3.8/site-packages/pypdb/pypdb.py:486: DeprecationWarning: The `get_pdb_file` function within pypdb.py is deprecated.See `pypdb/clients/pdb/pdb_client.py` for a near-identical function to use\n",
      "  warnings.warn(\n"
     ]
    },
    {
     "name": "stdout",
     "output_type": "stream",
     "text": [
      "Sending GET request to https://files.rcsb.org/download/2MLT.pdb to fetch 2MLT's pdb file as a string.\n"
     ]
    },
    {
     "name": "stderr",
     "output_type": "stream",
     "text": [
      "/home/mansbach/.conda/envs/mdlearnenv/lib/python3.8/site-packages/pypdb/pypdb.py:486: DeprecationWarning: The `get_pdb_file` function within pypdb.py is deprecated.See `pypdb/clients/pdb/pdb_client.py` for a near-identical function to use\n",
      "  warnings.warn(\n"
     ]
    },
    {
     "name": "stdout",
     "output_type": "stream",
     "text": [
      "Sending GET request to https://files.rcsb.org/download/3QRX.pdb to fetch 3QRX's pdb file as a string.\n"
     ]
    },
    {
     "name": "stderr",
     "output_type": "stream",
     "text": [
      "/home/mansbach/.conda/envs/mdlearnenv/lib/python3.8/site-packages/pypdb/pypdb.py:486: DeprecationWarning: The `get_pdb_file` function within pypdb.py is deprecated.See `pypdb/clients/pdb/pdb_client.py` for a near-identical function to use\n",
      "  warnings.warn(\n"
     ]
    },
    {
     "name": "stdout",
     "output_type": "stream",
     "text": [
      "Sending GET request to https://files.rcsb.org/download/6O4M.pdb to fetch 6O4M's pdb file as a string.\n"
     ]
    }
   ],
   "source": [
    "#download structures from PDB\n",
    "pdbl = PDBList()\n",
    "for i in pdbids:\n",
    "    pdb_file = get_pdb_file(i.split('_')[0],filetype='pdb',compression=False)\n",
    "    newf = open(i.split('_')[0]+'.pdb','w')\n",
    "    newf.write(pdb_file)\n",
    "    newf.close()"
   ]
  },
  {
   "cell_type": "code",
   "execution_count": 21,
   "metadata": {},
   "outputs": [
    {
     "name": "stderr",
     "output_type": "stream",
     "text": [
      "/home/mansbach/.conda/envs/mdlearnenv/lib/python3.8/site-packages/ipykernel/ipkernel.py:287: DeprecationWarning: `should_run_async` will not call `transform_cell` automatically in the future. Please pass the result to `transformed_cell` argument and any exception that happen during thetransform in `preprocessing_exc_tuple` in IPython 7.17 and above.\n",
      "  and should_run_async(code)\n"
     ]
    }
   ],
   "source": [
    "t = md.load('3QRX.pdb')"
   ]
  },
  {
   "cell_type": "code",
   "execution_count": 22,
   "metadata": {},
   "outputs": [
    {
     "name": "stderr",
     "output_type": "stream",
     "text": [
      "/home/mansbach/.conda/envs/mdlearnenv/lib/python3.8/site-packages/ipykernel/ipkernel.py:287: DeprecationWarning: `should_run_async` will not call `transform_cell` automatically in the future. Please pass the result to `transformed_cell` argument and any exception that happen during thetransform in `preprocessing_exc_tuple` in IPython 7.17 and above.\n",
      "  and should_run_async(code)\n"
     ]
    },
    {
     "data": {
      "application/vnd.jupyter.widget-view+json": {
       "model_id": "bb141b4e288f40dc805d5d35aa3132e6",
       "version_major": 2,
       "version_minor": 0
      },
      "text/plain": [
       "NGLWidget()"
      ]
     },
     "metadata": {},
     "output_type": "display_data"
    }
   ],
   "source": [
    "view = nv.show_mdtraj(t)\n",
    "view"
   ]
  },
  {
   "cell_type": "code",
   "execution_count": 55,
   "metadata": {},
   "outputs": [
    {
     "name": "stderr",
     "output_type": "stream",
     "text": [
      "/home/mansbach/.conda/envs/mdlearnenv/lib/python3.8/site-packages/ipykernel/ipkernel.py:287: DeprecationWarning: `should_run_async` will not call `transform_cell` automatically in the future. Please pass the result to `transformed_cell` argument and any exception that happen during thetransform in `preprocessing_exc_tuple` in IPython 7.17 and above.\n",
      "  and should_run_async(code)\n"
     ]
    }
   ],
   "source": [
    "ats = [str(a) for a in t.topology.chain(1).atoms]"
   ]
  },
  {
   "cell_type": "code",
   "execution_count": 56,
   "metadata": {},
   "outputs": [
    {
     "name": "stderr",
     "output_type": "stream",
     "text": [
      "/home/mansbach/.conda/envs/mdlearnenv/lib/python3.8/site-packages/ipykernel/ipkernel.py:287: DeprecationWarning: `should_run_async` will not call `transform_cell` automatically in the future. Please pass the result to `transformed_cell` argument and any exception that happen during thetransform in `preprocessing_exc_tuple` in IPython 7.17 and above.\n",
      "  and should_run_async(code)\n"
     ]
    },
    {
     "data": {
      "text/plain": [
       "['ILE2-N',\n",
       " 'ILE2-CA',\n",
       " 'ILE2-C',\n",
       " 'ILE2-O',\n",
       " 'ILE2-CB',\n",
       " 'GLY3-N',\n",
       " 'GLY3-CA',\n",
       " 'GLY3-C',\n",
       " 'GLY3-O',\n",
       " 'ALA4-N',\n",
       " 'ALA4-CA',\n",
       " 'ALA4-C',\n",
       " 'ALA4-O',\n",
       " 'ALA4-CB',\n",
       " 'VAL5-N',\n",
       " 'VAL5-CA',\n",
       " 'VAL5-C',\n",
       " 'VAL5-O',\n",
       " 'VAL5-CB',\n",
       " 'VAL5-CG1',\n",
       " 'VAL5-CG2',\n",
       " 'LEU6-N',\n",
       " 'LEU6-CA',\n",
       " 'LEU6-C',\n",
       " 'LEU6-O',\n",
       " 'LEU6-CB',\n",
       " 'LEU6-CG',\n",
       " 'LEU6-CD1',\n",
       " 'LEU6-CD2',\n",
       " 'LYS7-N',\n",
       " 'LYS7-CA',\n",
       " 'LYS7-C',\n",
       " 'LYS7-O',\n",
       " 'LYS7-CB',\n",
       " 'VAL8-N',\n",
       " 'VAL8-CA',\n",
       " 'VAL8-C',\n",
       " 'VAL8-O',\n",
       " 'VAL8-CB',\n",
       " 'VAL8-CG1',\n",
       " 'VAL8-CG2',\n",
       " 'LEU9-N',\n",
       " 'LEU9-CA',\n",
       " 'LEU9-C',\n",
       " 'LEU9-O',\n",
       " 'LEU9-CB',\n",
       " 'LEU9-CG',\n",
       " 'LEU9-CD1',\n",
       " 'LEU9-CD2',\n",
       " 'THR10-N',\n",
       " 'THR10-CA',\n",
       " 'THR10-C',\n",
       " 'THR10-O',\n",
       " 'THR10-CB',\n",
       " 'THR10-OG1',\n",
       " 'THR10-CG2',\n",
       " 'THR11-N',\n",
       " 'THR11-CA',\n",
       " 'THR11-C',\n",
       " 'THR11-O',\n",
       " 'THR11-CB',\n",
       " 'THR11-OG1',\n",
       " 'THR11-CG2',\n",
       " 'GLY12-N',\n",
       " 'GLY12-CA',\n",
       " 'GLY12-C',\n",
       " 'GLY12-O',\n",
       " 'LEU13-N',\n",
       " 'LEU13-CA',\n",
       " 'LEU13-C',\n",
       " 'LEU13-O',\n",
       " 'LEU13-CB',\n",
       " 'LEU13-CG',\n",
       " 'LEU13-CD1',\n",
       " 'LEU13-CD2',\n",
       " 'PRO14-N',\n",
       " 'PRO14-CA',\n",
       " 'PRO14-C',\n",
       " 'PRO14-O',\n",
       " 'PRO14-CB',\n",
       " 'PRO14-CG',\n",
       " 'PRO14-CD',\n",
       " 'ALA15-N',\n",
       " 'ALA15-CA',\n",
       " 'ALA15-C',\n",
       " 'ALA15-O',\n",
       " 'ALA15-CB',\n",
       " 'LEU16-N',\n",
       " 'LEU16-CA',\n",
       " 'LEU16-C',\n",
       " 'LEU16-O',\n",
       " 'LEU16-CB',\n",
       " 'LEU16-CG',\n",
       " 'LEU16-CD1',\n",
       " 'LEU16-CD2',\n",
       " 'ILE17-N',\n",
       " 'ILE17-CA',\n",
       " 'ILE17-C',\n",
       " 'ILE17-O',\n",
       " 'ILE17-CB',\n",
       " 'ILE17-CG1',\n",
       " 'ILE17-CG2',\n",
       " 'ILE17-CD1',\n",
       " 'SER18-N',\n",
       " 'SER18-CA',\n",
       " 'SER18-C',\n",
       " 'SER18-O',\n",
       " 'SER18-CB',\n",
       " 'SER18-OG',\n",
       " 'TRP19-N',\n",
       " 'TRP19-CA',\n",
       " 'TRP19-C',\n",
       " 'TRP19-O',\n",
       " 'TRP19-CB',\n",
       " 'TRP19-CG',\n",
       " 'TRP19-CD1',\n",
       " 'TRP19-CD2',\n",
       " 'TRP19-NE1',\n",
       " 'TRP19-CE2',\n",
       " 'TRP19-CE3',\n",
       " 'TRP19-CZ2',\n",
       " 'TRP19-CZ3',\n",
       " 'TRP19-CH2',\n",
       " 'ILE20-N',\n",
       " 'ILE20-CA',\n",
       " 'ILE20-C',\n",
       " 'ILE20-O',\n",
       " 'ILE20-CB',\n",
       " 'ILE20-CG1',\n",
       " 'ILE20-CG2',\n",
       " 'ILE20-CD1',\n",
       " 'LYS21-N',\n",
       " 'LYS21-CA',\n",
       " 'LYS21-C',\n",
       " 'LYS21-O',\n",
       " 'LYS21-CB']"
      ]
     },
     "execution_count": 56,
     "metadata": {},
     "output_type": "execute_result"
    }
   ],
   "source": [
    "ats"
   ]
  },
  {
   "cell_type": "code",
   "execution_count": 64,
   "metadata": {},
   "outputs": [
    {
     "name": "stderr",
     "output_type": "stream",
     "text": [
      "/home/mansbach/.conda/envs/mdlearnenv/lib/python3.8/site-packages/ipykernel/ipkernel.py:287: DeprecationWarning: `should_run_async` will not call `transform_cell` automatically in the future. Please pass the result to `transformed_cell` argument and any exception that happen during thetransform in `preprocessing_exc_tuple` in IPython 7.17 and above.\n",
      "  and should_run_async(code)\n"
     ]
    },
    {
     "data": {
      "text/plain": [
       "array([1293, 1294, 1295, 1296, 1297, 1298, 1299, 1300, 1301, 1302, 1303,\n",
       "       1304, 1305, 1306, 1307, 1308, 1309, 1310, 1311, 1312, 1313, 1314,\n",
       "       1315, 1316, 1317, 1318, 1319, 1320, 1321, 1322, 1323, 1324, 1325,\n",
       "       1326, 1327])"
      ]
     },
     "execution_count": 64,
     "metadata": {},
     "output_type": "execute_result"
    }
   ],
   "source": [
    "t.topology.select('chainid 2')"
   ]
  },
  {
   "cell_type": "code",
   "execution_count": 41,
   "metadata": {},
   "outputs": [
    {
     "name": "stderr",
     "output_type": "stream",
     "text": [
      "/home/mansbach/.conda/envs/mdlearnenv/lib/python3.8/site-packages/ipykernel/ipkernel.py:287: DeprecationWarning: `should_run_async` will not call `transform_cell` automatically in the future. Please pass the result to `transformed_cell` argument and any exception that happen during thetransform in `preprocessing_exc_tuple` in IPython 7.17 and above.\n",
      "  and should_run_async(code)\n"
     ]
    },
    {
     "data": {
      "text/plain": [
       "26"
      ]
     },
     "execution_count": 41,
     "metadata": {},
     "output_type": "execute_result"
    }
   ],
   "source": [
    "len(seqs[0])"
   ]
  },
  {
   "cell_type": "code",
   "execution_count": 87,
   "metadata": {},
   "outputs": [
    {
     "name": "stderr",
     "output_type": "stream",
     "text": [
      "/home/mansbach/.conda/envs/mdlearnenv/lib/python3.8/site-packages/ipykernel/ipkernel.py:287: DeprecationWarning: `should_run_async` will not call `transform_cell` automatically in the future. Please pass the result to `transformed_cell` argument and any exception that happen during thetransform in `preprocessing_exc_tuple` in IPython 7.17 and above.\n",
      "  and should_run_async(code)\n"
     ]
    }
   ],
   "source": [
    "import pdb\n"
   ]
  },
  {
   "cell_type": "code",
   "execution_count": 88,
   "metadata": {},
   "outputs": [
    {
     "name": "stderr",
     "output_type": "stream",
     "text": [
      "/home/mansbach/.conda/envs/mdlearnenv/lib/python3.8/site-packages/ipykernel/ipkernel.py:287: DeprecationWarning: `should_run_async` will not call `transform_cell` automatically in the future. Please pass the result to `transformed_cell` argument and any exception that happen during thetransform in `preprocessing_exc_tuple` in IPython 7.17 and above.\n",
      "  and should_run_async(code)\n"
     ]
    },
    {
     "data": {
      "text/plain": [
       "['1BH1_1', '2MW6_1', '6DST_1', '2MLT_1', '3QRX_2', '6O4M_2']"
      ]
     },
     "execution_count": 88,
     "metadata": {},
     "output_type": "execute_result"
    }
   ],
   "source": [
    "pdbids"
   ]
  },
  {
   "cell_type": "code",
   "execution_count": 91,
   "metadata": {},
   "outputs": [
    {
     "name": "stderr",
     "output_type": "stream",
     "text": [
      "/home/mansbach/.conda/envs/mdlearnenv/lib/python3.8/site-packages/ipykernel/ipkernel.py:287: DeprecationWarning: `should_run_async` will not call `transform_cell` automatically in the future. Please pass the result to `transformed_cell` argument and any exception that happen during thetransform in `preprocessing_exc_tuple` in IPython 7.17 and above.\n",
      "  and should_run_async(code)\n"
     ]
    },
    {
     "name": "stdout",
     "output_type": "stream",
     "text": [
      "<mdtraj.Trajectory with 20 frames, 436 atoms, 27 residues, without unitcells>\n"
     ]
    }
   ],
   "source": [
    "t = extractStructure(seqs[0],'1BH1.pdb',0)"
   ]
  },
  {
   "cell_type": "code",
   "execution_count": 92,
   "metadata": {},
   "outputs": [
    {
     "name": "stdout",
     "output_type": "stream",
     "text": [
      "<mdtraj.Trajectory with 20 frames, 436 atoms, 27 residues, without unitcells>\n"
     ]
    },
    {
     "name": "stderr",
     "output_type": "stream",
     "text": [
      "/home/mansbach/.conda/envs/mdlearnenv/lib/python3.8/site-packages/ipykernel/ipkernel.py:287: DeprecationWarning: `should_run_async` will not call `transform_cell` automatically in the future. Please pass the result to `transformed_cell` argument and any exception that happen during thetransform in `preprocessing_exc_tuple` in IPython 7.17 and above.\n",
      "  and should_run_async(code)\n"
     ]
    }
   ],
   "source": [
    "print(t)"
   ]
  },
  {
   "cell_type": "code",
   "execution_count": 93,
   "metadata": {},
   "outputs": [
    {
     "name": "stdout",
     "output_type": "stream",
     "text": [
      "<mdtraj.Trajectory with 1 frames, 1948 atoms, 276 residues, and unitcells>\n"
     ]
    },
    {
     "name": "stderr",
     "output_type": "stream",
     "text": [
      "/home/mansbach/.conda/envs/mdlearnenv/lib/python3.8/site-packages/ipykernel/ipkernel.py:287: DeprecationWarning: `should_run_async` will not call `transform_cell` automatically in the future. Please pass the result to `transformed_cell` argument and any exception that happen during thetransform in `preprocessing_exc_tuple` in IPython 7.17 and above.\n",
      "  and should_run_async(code)\n"
     ]
    }
   ],
   "source": [
    "t = extractStructure(seqs[0],'6O4M.pdb',1)"
   ]
  },
  {
   "cell_type": "code",
   "execution_count": 94,
   "metadata": {},
   "outputs": [
    {
     "name": "stdout",
     "output_type": "stream",
     "text": [
      "<mdtraj.Trajectory with 1 frames, 436 atoms, 27 residues, and unitcells>\n"
     ]
    },
    {
     "name": "stderr",
     "output_type": "stream",
     "text": [
      "/home/mansbach/.conda/envs/mdlearnenv/lib/python3.8/site-packages/ipykernel/ipkernel.py:287: DeprecationWarning: `should_run_async` will not call `transform_cell` automatically in the future. Please pass the result to `transformed_cell` argument and any exception that happen during thetransform in `preprocessing_exc_tuple` in IPython 7.17 and above.\n",
      "  and should_run_async(code)\n"
     ]
    }
   ],
   "source": [
    "print(t)"
   ]
  },
  {
   "cell_type": "code",
   "execution_count": 191,
   "metadata": {},
   "outputs": [
    {
     "name": "stderr",
     "output_type": "stream",
     "text": [
      "/home/mansbach/.conda/envs/mdlearnenv/lib/python3.8/site-packages/ipykernel/ipkernel.py:287: DeprecationWarning: `should_run_async` will not call `transform_cell` automatically in the future. Please pass the result to `transformed_cell` argument and any exception that happen during thetransform in `preprocessing_exc_tuple` in IPython 7.17 and above.\n",
      "  and should_run_async(code)\n"
     ]
    }
   ],
   "source": [
    "#create a peptide class with a query feature\n",
    "#that checks for structures against the pdb\n",
    "#pulls anything it can from the pdb and adds the full matching structures to \n",
    "#a structure trajectory in the peptide\n",
    "def extractStructure(sequence,pdbfile,chainid):\n",
    "    \"\"\"\n",
    "    From a downloaded pdb file and entity # pull an md trajectory if it matches the full sequence\n",
    "    \n",
    "    Inputs\n",
    "    \n",
    "    sequence : string\n",
    "    pdbfile : string\n",
    "    chainid : int\n",
    "    \n",
    "    Returns:\n",
    "    \n",
    "    traj: mdtraj object or None\n",
    "    \"\"\"\n",
    "    traj = None\n",
    "    p = md.load(pdbfile)\n",
    "    fasta = p.topology.to_fasta(chainid)\n",
    "    if len(fasta) == len(sequence):\n",
    "        traj = p.atom_slice(p.topology.select('protein and chainid {}'.format(chainid)))\n",
    "    return traj\n",
    "\n",
    "class Peptide:\n",
    "    def __init__(self,seq):\n",
    "        self.sequence = seq\n",
    "        self.pdbids = []\n",
    "        self.strucstable = None\n",
    "        self.strucpredict = None\n",
    "        \n",
    "    def __str__(self):\n",
    "        return self.sequence\n",
    "    \n",
    "    def hasExperimentalStructure(self):\n",
    "        if len(self.pdbids) > 0:\n",
    "            return True\n",
    "        else:\n",
    "            q = Query(self.sequence,query_type=\"sequence\",return_type=\"polymer_entity\")\n",
    "            sq = q.search()\n",
    "            pdbids = []\n",
    "            if sq is not None:\n",
    "                for result in sq['result_set']:\n",
    "                    if result['services'][0]['nodes'][0]['match_context'][0]['sequence_identity'] == 1.0:\n",
    "                        pdbids.append(result['identifier'])\n",
    "            self.pdbids = pdbids\n",
    "            if len(self.pdbids) > 0:\n",
    "                return True\n",
    "            else:\n",
    "                return False\n",
    "        \n",
    "    def strucFromPDB(self):\n",
    "        if self.hasExperimentalStructure():\n",
    "            for i in self.pdbids:\n",
    "                pdb_file = get_pdb_file(i.split('_')[0],filetype='pdb',compression=False)\n",
    "                fname = i.split('_')[0]+'.pdb'\n",
    "                newf = open(fname,'w')\n",
    "                newf.write(pdb_file)\n",
    "                newf.close()\n",
    "\n",
    "                chainid = int(i.split('_')[1])-1\n",
    "                structraj = extractStructure(self.sequence,fname,chainid)\n",
    "                if self.strucstable is None:\n",
    "                    self.strucstable= [structraj]\n",
    "                else:\n",
    "                    self.strucstable.append(structraj)"
   ]
  },
  {
   "cell_type": "code",
   "execution_count": 192,
   "metadata": {},
   "outputs": [
    {
     "name": "stderr",
     "output_type": "stream",
     "text": [
      "/home/mansbach/.conda/envs/mdlearnenv/lib/python3.8/site-packages/ipykernel/ipkernel.py:287: DeprecationWarning: `should_run_async` will not call `transform_cell` automatically in the future. Please pass the result to `transformed_cell` argument and any exception that happen during thetransform in `preprocessing_exc_tuple` in IPython 7.17 and above.\n",
      "  and should_run_async(code)\n"
     ]
    },
    {
     "name": "stdout",
     "output_type": "stream",
     "text": [
      "True\n",
      "time to establish: 0.2820441722869873\n"
     ]
    }
   ],
   "source": [
    "start = time.time()\n",
    "Melittin = Peptide(seqs[0])\n",
    "print(Melittin.hasExperimentalStructure())\n",
    "end = time.time()\n",
    "print('time to establish: {}'.format(end-start))"
   ]
  },
  {
   "cell_type": "code",
   "execution_count": 193,
   "metadata": {},
   "outputs": [
    {
     "name": "stdout",
     "output_type": "stream",
     "text": [
      "time to establish: 0.00010514259338378906\n"
     ]
    },
    {
     "name": "stderr",
     "output_type": "stream",
     "text": [
      "/home/mansbach/.conda/envs/mdlearnenv/lib/python3.8/site-packages/ipykernel/ipkernel.py:287: DeprecationWarning: `should_run_async` will not call `transform_cell` automatically in the future. Please pass the result to `transformed_cell` argument and any exception that happen during thetransform in `preprocessing_exc_tuple` in IPython 7.17 and above.\n",
      "  and should_run_async(code)\n"
     ]
    }
   ],
   "source": [
    "start = time.time()\n",
    "Melittin = Peptide(seqs[0])\n",
    "end = time.time()\n",
    "print('time to establish: {}'.format(end-start))"
   ]
  },
  {
   "cell_type": "code",
   "execution_count": 194,
   "metadata": {},
   "outputs": [
    {
     "name": "stderr",
     "output_type": "stream",
     "text": [
      "/home/mansbach/.conda/envs/mdlearnenv/lib/python3.8/site-packages/ipykernel/ipkernel.py:287: DeprecationWarning: `should_run_async` will not call `transform_cell` automatically in the future. Please pass the result to `transformed_cell` argument and any exception that happen during thetransform in `preprocessing_exc_tuple` in IPython 7.17 and above.\n",
      "  and should_run_async(code)\n"
     ]
    }
   ],
   "source": [
    "# to compare two different structures we're going to need to use pymol align, super, or cealign\n",
    "#depending on sequence identities\n",
    "#https://pymolwiki.org/index.php/Align"
   ]
  },
  {
   "cell_type": "code",
   "execution_count": 195,
   "metadata": {},
   "outputs": [
    {
     "name": "stderr",
     "output_type": "stream",
     "text": [
      "/home/mansbach/.conda/envs/mdlearnenv/lib/python3.8/site-packages/ipykernel/ipkernel.py:287: DeprecationWarning: `should_run_async` will not call `transform_cell` automatically in the future. Please pass the result to `transformed_cell` argument and any exception that happen during thetransform in `preprocessing_exc_tuple` in IPython 7.17 and above.\n",
      "  and should_run_async(code)\n"
     ]
    }
   ],
   "source": [
    "peptidelibrary = [Peptide(seq) for seq in seqs]"
   ]
  },
  {
   "cell_type": "code",
   "execution_count": 196,
   "metadata": {},
   "outputs": [
    {
     "name": "stdout",
     "output_type": "stream",
     "text": [
      "IKWEYVLLLFLL\n"
     ]
    },
    {
     "name": "stderr",
     "output_type": "stream",
     "text": [
      "/home/mansbach/.conda/envs/mdlearnenv/lib/python3.8/site-packages/ipykernel/ipkernel.py:287: DeprecationWarning: `should_run_async` will not call `transform_cell` automatically in the future. Please pass the result to `transformed_cell` argument and any exception that happen during thetransform in `preprocessing_exc_tuple` in IPython 7.17 and above.\n",
      "  and should_run_async(code)\n"
     ]
    }
   ],
   "source": [
    "print(peptidelibrary[10_000])"
   ]
  },
  {
   "cell_type": "code",
   "execution_count": 197,
   "metadata": {
    "scrolled": true
   },
   "outputs": [
    {
     "name": "stderr",
     "output_type": "stream",
     "text": [
      "/home/mansbach/.conda/envs/mdlearnenv/lib/python3.8/site-packages/ipykernel/ipkernel.py:287: DeprecationWarning: `should_run_async` will not call `transform_cell` automatically in the future. Please pass the result to `transformed_cell` argument and any exception that happen during thetransform in `preprocessing_exc_tuple` in IPython 7.17 and above.\n",
      "  and should_run_async(code)\n"
     ]
    },
    {
     "name": "stdout",
     "output_type": "stream",
     "text": [
      "time: 339.0192632675171\n"
     ]
    }
   ],
   "source": [
    "start = time.time()\n",
    "structurecount = 0\n",
    "checkcount = 0\n",
    "for i in range(0,len(seqs),100):\n",
    "    if peptidelibrary[i].hasExperimentalStructure():\n",
    "        structurecount+=1\n",
    "    checkcount+=1\n",
    "end = time.time()\n",
    "print('time: {}'.format(end-start))"
   ]
  },
  {
   "cell_type": "code",
   "execution_count": 198,
   "metadata": {},
   "outputs": [
    {
     "name": "stderr",
     "output_type": "stream",
     "text": [
      "/home/mansbach/.conda/envs/mdlearnenv/lib/python3.8/site-packages/ipykernel/ipkernel.py:287: DeprecationWarning: `should_run_async` will not call `transform_cell` automatically in the future. Please pass the result to `transformed_cell` argument and any exception that happen during thetransform in `preprocessing_exc_tuple` in IPython 7.17 and above.\n",
      "  and should_run_async(code)\n"
     ]
    },
    {
     "data": {
      "text/plain": [
       "424"
      ]
     },
     "execution_count": 198,
     "metadata": {},
     "output_type": "execute_result"
    }
   ],
   "source": [
    "checkcount"
   ]
  },
  {
   "cell_type": "code",
   "execution_count": 199,
   "metadata": {},
   "outputs": [
    {
     "name": "stderr",
     "output_type": "stream",
     "text": [
      "/home/mansbach/.conda/envs/mdlearnenv/lib/python3.8/site-packages/ipykernel/ipkernel.py:287: DeprecationWarning: `should_run_async` will not call `transform_cell` automatically in the future. Please pass the result to `transformed_cell` argument and any exception that happen during thetransform in `preprocessing_exc_tuple` in IPython 7.17 and above.\n",
      "  and should_run_async(code)\n"
     ]
    },
    {
     "data": {
      "text/plain": [
       "42"
      ]
     },
     "execution_count": 199,
     "metadata": {},
     "output_type": "execute_result"
    }
   ],
   "source": [
    "structurecount"
   ]
  },
  {
   "cell_type": "code",
   "execution_count": null,
   "metadata": {},
   "outputs": [],
   "source": []
  }
 ],
 "metadata": {
  "kernelspec": {
   "display_name": "Python 3",
   "language": "python",
   "name": "python3"
  },
  "language_info": {
   "codemirror_mode": {
    "name": "ipython",
    "version": 3
   },
   "file_extension": ".py",
   "mimetype": "text/x-python",
   "name": "python",
   "nbconvert_exporter": "python",
   "pygments_lexer": "ipython3",
   "version": "3.8.5"
  }
 },
 "nbformat": 4,
 "nbformat_minor": 4
}
