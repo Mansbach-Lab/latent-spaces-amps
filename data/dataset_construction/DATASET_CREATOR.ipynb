{
 "cells": [
  {
   "cell_type": "markdown",
   "id": "88aba5d6",
   "metadata": {},
   "source": [
    "<h3>Pipeline For Data Curation </h3>\n",
    "<h4>First load all starpep data and separate sequences with non-standard amino acids into a separate list </h4>"
   ]
  },
  {
   "cell_type": "code",
   "execution_count": 4,
   "id": "ae0683a3",
   "metadata": {},
   "outputs": [
    {
     "name": "stdout",
     "output_type": "stream",
     "text": [
      "Are there duplicates: False\n",
      "Number of sequences with only standard AA's:  42373 \t Number with non-standard AA's 2747\n"
     ]
    }
   ],
   "source": [
    "from Bio import SeqIO\n",
    "import re\n",
    "import pandas as pd\n",
    "import numpy as np\n",
    "pattern = re.compile(\"[^ARNDCEQGHILKMFPSTWYV]\") #no B asaparctic acid or Z glutamic acid (or \"X\" or \"O\")\n",
    "standard = []\n",
    "non_standard= []\n",
    "for idx, record in enumerate(SeqIO.parse(\"amp_100_pep_toolbox_raw.fasta\", \"fasta\")):\n",
    "    if pattern.search(str(record.seq)):\n",
    "        non_standard.append(idx) #saving the index of the non-standard AAs for future reference\n",
    "    else:\n",
    "        standard.append(record.seq)\n",
    "\n",
    "print(\"Are there duplicates:\", len(standard) != len(set(standard))) #sets do not allow duplicate values, check if both list lens are equal\n",
    "\n",
    "print(\"Number of sequences with only standard AA's: \",len(standard), \"\\t Number with non-standard AA's\",len(non_standard))\n",
    "sequence_length_dict={'sequences': [str(seq) for seq in standard], 'lengths':[len(seq) for seq in standard]}\n",
    "pd.DataFrame.from_dict(sequence_length_dict).to_csv('starpep_sequences_and_lengths.csv', index=False)"
   ]
  },
  {
   "cell_type": "markdown",
   "id": "5c49d7c0",
   "metadata": {},
   "source": [
    "<h4> Then load the uniprot data and separate sequences with standad amino acids into a separate list"
   ]
  },
  {
   "cell_type": "code",
   "execution_count": 2,
   "id": "3cbacb52",
   "metadata": {},
   "outputs": [
    {
     "ename": "KeyboardInterrupt",
     "evalue": "",
     "output_type": "error",
     "traceback": [
      "\u001b[1;31m---------------------------------------------------------------------------\u001b[0m",
      "\u001b[1;31mKeyboardInterrupt\u001b[0m                         Traceback (most recent call last)",
      "\u001b[1;32m<ipython-input-2-27e6eeb6a75f>\u001b[0m in \u001b[0;36m<module>\u001b[1;34m\u001b[0m\n\u001b[0;32m      2\u001b[0m \u001b[0mstandard\u001b[0m \u001b[1;33m=\u001b[0m \u001b[1;33m[\u001b[0m\u001b[1;33m]\u001b[0m\u001b[1;33m\u001b[0m\u001b[1;33m\u001b[0m\u001b[0m\n\u001b[0;32m      3\u001b[0m \u001b[0mnon_standard\u001b[0m\u001b[1;33m=\u001b[0m \u001b[1;33m[\u001b[0m\u001b[1;33m]\u001b[0m\u001b[1;33m\u001b[0m\u001b[1;33m\u001b[0m\u001b[0m\n\u001b[1;32m----> 4\u001b[1;33m \u001b[1;32mfor\u001b[0m \u001b[0midx\u001b[0m\u001b[1;33m,\u001b[0m \u001b[0mrecord\u001b[0m \u001b[1;32min\u001b[0m \u001b[0menumerate\u001b[0m\u001b[1;33m(\u001b[0m\u001b[0mSeqIO\u001b[0m\u001b[1;33m.\u001b[0m\u001b[0mparse\u001b[0m\u001b[1;33m(\u001b[0m\u001b[1;34m\"uniprot_len_50_std_only_non_antimicrobial.fasta\"\u001b[0m\u001b[1;33m,\u001b[0m \u001b[1;34m\"fasta\"\u001b[0m\u001b[1;33m)\u001b[0m\u001b[1;33m)\u001b[0m\u001b[1;33m:\u001b[0m\u001b[1;33m\u001b[0m\u001b[1;33m\u001b[0m\u001b[0m\n\u001b[0m\u001b[0;32m      5\u001b[0m     \u001b[1;32mif\u001b[0m \u001b[0mpattern\u001b[0m\u001b[1;33m.\u001b[0m\u001b[0msearch\u001b[0m\u001b[1;33m(\u001b[0m\u001b[0mstr\u001b[0m\u001b[1;33m(\u001b[0m\u001b[0mrecord\u001b[0m\u001b[1;33m.\u001b[0m\u001b[0mseq\u001b[0m\u001b[1;33m)\u001b[0m\u001b[1;33m)\u001b[0m\u001b[1;33m:\u001b[0m\u001b[1;33m\u001b[0m\u001b[1;33m\u001b[0m\u001b[0m\n\u001b[0;32m      6\u001b[0m         \u001b[0mnon_standard\u001b[0m\u001b[1;33m.\u001b[0m\u001b[0mappend\u001b[0m\u001b[1;33m(\u001b[0m\u001b[0midx\u001b[0m\u001b[1;33m)\u001b[0m \u001b[1;31m#saving the index of the non-standard AAs for future reference\u001b[0m\u001b[1;33m\u001b[0m\u001b[1;33m\u001b[0m\u001b[0m\n",
      "\u001b[1;32me:\\Anaconda\\envs\\amp21\\lib\\site-packages\\Bio\\SeqIO\\Interfaces.py\u001b[0m in \u001b[0;36m__next__\u001b[1;34m(self)\u001b[0m\n\u001b[0;32m     71\u001b[0m     \u001b[1;32mdef\u001b[0m \u001b[0m__next__\u001b[0m\u001b[1;33m(\u001b[0m\u001b[0mself\u001b[0m\u001b[1;33m)\u001b[0m\u001b[1;33m:\u001b[0m\u001b[1;33m\u001b[0m\u001b[1;33m\u001b[0m\u001b[0m\n\u001b[0;32m     72\u001b[0m         \u001b[1;32mtry\u001b[0m\u001b[1;33m:\u001b[0m\u001b[1;33m\u001b[0m\u001b[1;33m\u001b[0m\u001b[0m\n\u001b[1;32m---> 73\u001b[1;33m             \u001b[1;32mreturn\u001b[0m \u001b[0mnext\u001b[0m\u001b[1;33m(\u001b[0m\u001b[0mself\u001b[0m\u001b[1;33m.\u001b[0m\u001b[0mrecords\u001b[0m\u001b[1;33m)\u001b[0m\u001b[1;33m\u001b[0m\u001b[1;33m\u001b[0m\u001b[0m\n\u001b[0m\u001b[0;32m     74\u001b[0m         \u001b[1;32mexcept\u001b[0m \u001b[0mException\u001b[0m\u001b[1;33m:\u001b[0m\u001b[1;33m\u001b[0m\u001b[1;33m\u001b[0m\u001b[0m\n\u001b[0;32m     75\u001b[0m             \u001b[1;32mif\u001b[0m \u001b[0mself\u001b[0m\u001b[1;33m.\u001b[0m\u001b[0mshould_close_stream\u001b[0m\u001b[1;33m:\u001b[0m\u001b[1;33m\u001b[0m\u001b[1;33m\u001b[0m\u001b[0m\n",
      "\u001b[1;32me:\\Anaconda\\envs\\amp21\\lib\\site-packages\\Bio\\SeqIO\\FastaIO.py\u001b[0m in \u001b[0;36miterate\u001b[1;34m(self, handle)\u001b[0m\n\u001b[0;32m    196\u001b[0m                 \u001b[1;32myield\u001b[0m \u001b[0mSeqRecord\u001b[0m\u001b[1;33m(\u001b[0m\u001b[0mSeq\u001b[0m\u001b[1;33m(\u001b[0m\u001b[0msequence\u001b[0m\u001b[1;33m)\u001b[0m\u001b[1;33m,\u001b[0m \u001b[0mid\u001b[0m\u001b[1;33m=\u001b[0m\u001b[0mid\u001b[0m\u001b[1;33m,\u001b[0m \u001b[0mname\u001b[0m\u001b[1;33m=\u001b[0m\u001b[0mname\u001b[0m\u001b[1;33m,\u001b[0m \u001b[0mdescription\u001b[0m\u001b[1;33m=\u001b[0m\u001b[0mdescr\u001b[0m\u001b[1;33m)\u001b[0m\u001b[1;33m\u001b[0m\u001b[1;33m\u001b[0m\u001b[0m\n\u001b[0;32m    197\u001b[0m         \u001b[1;32melse\u001b[0m\u001b[1;33m:\u001b[0m\u001b[1;33m\u001b[0m\u001b[1;33m\u001b[0m\u001b[0m\n\u001b[1;32m--> 198\u001b[1;33m             \u001b[1;32mfor\u001b[0m \u001b[0mtitle\u001b[0m\u001b[1;33m,\u001b[0m \u001b[0msequence\u001b[0m \u001b[1;32min\u001b[0m \u001b[0mSimpleFastaParser\u001b[0m\u001b[1;33m(\u001b[0m\u001b[0mhandle\u001b[0m\u001b[1;33m)\u001b[0m\u001b[1;33m:\u001b[0m\u001b[1;33m\u001b[0m\u001b[1;33m\u001b[0m\u001b[0m\n\u001b[0m\u001b[0;32m    199\u001b[0m                 \u001b[1;32mtry\u001b[0m\u001b[1;33m:\u001b[0m\u001b[1;33m\u001b[0m\u001b[1;33m\u001b[0m\u001b[0m\n\u001b[0;32m    200\u001b[0m                     \u001b[0mfirst_word\u001b[0m \u001b[1;33m=\u001b[0m \u001b[0mtitle\u001b[0m\u001b[1;33m.\u001b[0m\u001b[0msplit\u001b[0m\u001b[1;33m(\u001b[0m\u001b[1;32mNone\u001b[0m\u001b[1;33m,\u001b[0m \u001b[1;36m1\u001b[0m\u001b[1;33m)\u001b[0m\u001b[1;33m[\u001b[0m\u001b[1;36m0\u001b[0m\u001b[1;33m]\u001b[0m\u001b[1;33m\u001b[0m\u001b[1;33m\u001b[0m\u001b[0m\n",
      "\u001b[1;32me:\\Anaconda\\envs\\amp21\\lib\\site-packages\\Bio\\SeqIO\\FastaIO.py\u001b[0m in \u001b[0;36mSimpleFastaParser\u001b[1;34m(handle)\u001b[0m\n\u001b[0;32m     58\u001b[0m     \u001b[1;31m# when not opened in universal read lines mode)\u001b[0m\u001b[1;33m\u001b[0m\u001b[1;33m\u001b[0m\u001b[1;33m\u001b[0m\u001b[0m\n\u001b[0;32m     59\u001b[0m     \u001b[0mlines\u001b[0m \u001b[1;33m=\u001b[0m \u001b[1;33m[\u001b[0m\u001b[1;33m]\u001b[0m\u001b[1;33m\u001b[0m\u001b[1;33m\u001b[0m\u001b[0m\n\u001b[1;32m---> 60\u001b[1;33m     \u001b[1;32mfor\u001b[0m \u001b[0mline\u001b[0m \u001b[1;32min\u001b[0m \u001b[0mhandle\u001b[0m\u001b[1;33m:\u001b[0m\u001b[1;33m\u001b[0m\u001b[1;33m\u001b[0m\u001b[0m\n\u001b[0m\u001b[0;32m     61\u001b[0m         \u001b[1;32mif\u001b[0m \u001b[0mline\u001b[0m\u001b[1;33m[\u001b[0m\u001b[1;36m0\u001b[0m\u001b[1;33m]\u001b[0m \u001b[1;33m==\u001b[0m \u001b[1;34m\">\"\u001b[0m\u001b[1;33m:\u001b[0m\u001b[1;33m\u001b[0m\u001b[1;33m\u001b[0m\u001b[0m\n\u001b[0;32m     62\u001b[0m             \u001b[1;32myield\u001b[0m \u001b[0mtitle\u001b[0m\u001b[1;33m,\u001b[0m \u001b[1;34m\"\"\u001b[0m\u001b[1;33m.\u001b[0m\u001b[0mjoin\u001b[0m\u001b[1;33m(\u001b[0m\u001b[0mlines\u001b[0m\u001b[1;33m)\u001b[0m\u001b[1;33m.\u001b[0m\u001b[0mreplace\u001b[0m\u001b[1;33m(\u001b[0m\u001b[1;34m\" \"\u001b[0m\u001b[1;33m,\u001b[0m \u001b[1;34m\"\"\u001b[0m\u001b[1;33m)\u001b[0m\u001b[1;33m.\u001b[0m\u001b[0mreplace\u001b[0m\u001b[1;33m(\u001b[0m\u001b[1;34m\"\\r\"\u001b[0m\u001b[1;33m,\u001b[0m \u001b[1;34m\"\"\u001b[0m\u001b[1;33m)\u001b[0m\u001b[1;33m\u001b[0m\u001b[1;33m\u001b[0m\u001b[0m\n",
      "\u001b[1;32me:\\Anaconda\\envs\\amp21\\lib\\encodings\\cp1252.py\u001b[0m in \u001b[0;36mdecode\u001b[1;34m(self, input, final)\u001b[0m\n\u001b[0;32m     20\u001b[0m \u001b[1;33m\u001b[0m\u001b[0m\n\u001b[0;32m     21\u001b[0m \u001b[1;32mclass\u001b[0m \u001b[0mIncrementalDecoder\u001b[0m\u001b[1;33m(\u001b[0m\u001b[0mcodecs\u001b[0m\u001b[1;33m.\u001b[0m\u001b[0mIncrementalDecoder\u001b[0m\u001b[1;33m)\u001b[0m\u001b[1;33m:\u001b[0m\u001b[1;33m\u001b[0m\u001b[1;33m\u001b[0m\u001b[0m\n\u001b[1;32m---> 22\u001b[1;33m     \u001b[1;32mdef\u001b[0m \u001b[0mdecode\u001b[0m\u001b[1;33m(\u001b[0m\u001b[0mself\u001b[0m\u001b[1;33m,\u001b[0m \u001b[0minput\u001b[0m\u001b[1;33m,\u001b[0m \u001b[0mfinal\u001b[0m\u001b[1;33m=\u001b[0m\u001b[1;32mFalse\u001b[0m\u001b[1;33m)\u001b[0m\u001b[1;33m:\u001b[0m\u001b[1;33m\u001b[0m\u001b[1;33m\u001b[0m\u001b[0m\n\u001b[0m\u001b[0;32m     23\u001b[0m         \u001b[1;32mreturn\u001b[0m \u001b[0mcodecs\u001b[0m\u001b[1;33m.\u001b[0m\u001b[0mcharmap_decode\u001b[0m\u001b[1;33m(\u001b[0m\u001b[0minput\u001b[0m\u001b[1;33m,\u001b[0m\u001b[0mself\u001b[0m\u001b[1;33m.\u001b[0m\u001b[0merrors\u001b[0m\u001b[1;33m,\u001b[0m\u001b[0mdecoding_table\u001b[0m\u001b[1;33m)\u001b[0m\u001b[1;33m[\u001b[0m\u001b[1;36m0\u001b[0m\u001b[1;33m]\u001b[0m\u001b[1;33m\u001b[0m\u001b[1;33m\u001b[0m\u001b[0m\n\u001b[0;32m     24\u001b[0m \u001b[1;33m\u001b[0m\u001b[0m\n",
      "\u001b[1;31mKeyboardInterrupt\u001b[0m: "
     ]
    }
   ],
   "source": [
    "pattern = re.compile(\"[^ARNDCEQGHILKMFPSTWYV]\") #no B asaparctic acid or Z glutamic acid (or \"X\" or \"O\")\n",
    "standard = []\n",
    "non_standard= []\n",
    "for idx, record in enumerate(SeqIO.parse(\"uniprot_len_50_std_only_non_antimicrobial.fasta\", \"fasta\")):\n",
    "    if pattern.search(str(record.seq)):\n",
    "        non_standard.append(idx) #saving the index of the non-standard AAs for future reference\n",
    "    else:\n",
    "        standard.append(record.seq)\n",
    "\n",
    "print(\"Are there duplicates:\", len(standard) != len(set(standard))) #sets do not allow duplicate values, check if both list lens are equal\n",
    "standard = list(set(standard))\n",
    "print(\"Are there duplicates after removal?:\", len(standard) != len(set(standard))) #sets do not allow duplicate values, check if both list lens are equal\n",
    "\n",
    "print(\"Number of sequences with only standard AA's: \",len(standard), \"\\t Number with non-standard AA's\",len(non_standard))\n",
    "sequence_length_dict={'sequences': [str(seq) for seq in standard], 'lengths':[len(seq) for seq in standard]}\n",
    "pd.DataFrame.from_dict(sequence_length_dict).to_csv('uniprot_sequences_and_lengths.csv', index=False)"
   ]
  },
  {
   "cell_type": "markdown",
   "id": "2f4597fd",
   "metadata": {},
   "source": [
    "<h4> Load the function metadata for starpep and re-format it"
   ]
  },
  {
   "cell_type": "code",
   "execution_count": null,
   "id": "878a869f",
   "metadata": {},
   "outputs": [],
   "source": [
    "df_func = pd.read_csv('sunistar_v1\\\\sequence_function_link_std_only.csv')\n",
    "with open('starpep_amps_in_order.txt', 'w') as f:\n",
    "    for sequence, amp_check in zip(df_func['Sequences'], df_func['Antimicrobial']):\n",
    "        if amp_check==1:\n",
    "            f.write('antimicrobial\\n')\n",
    "        else:\n",
    "            f.write('not_antimicrobial\\n')\n",
    "f.close()"
   ]
  },
  {
   "cell_type": "markdown",
   "id": "2852de29",
   "metadata": {},
   "source": [
    "<h4> Now load both created csv's with starpep and uniprot sequences of only standard amino acids and combine to create final dataset"
   ]
  },
  {
   "cell_type": "code",
   "execution_count": 5,
   "id": "9f8190ad",
   "metadata": {},
   "outputs": [],
   "source": [
    "df_uni = pd.read_csv('uniprot_sequences_and_lengths.csv')\n",
    "df_star = pd.read_csv('starpep_sequences_and_lengths.csv')\n",
    "\n",
    "#loading the functional data for property predictor\n",
    "df_func = pd.read_csv('function_full_no_shuff.txt', names=['Antimicrobial'])\n",
    "df_func[\"Antimicrobial\"] = df_func[\"Antimicrobial\"].map({\"antimicrobial\":1, \"not_antimicrobial\":0})\n",
    "\n",
    "#tie the functional data to starpep and add negative labels to all uniprot data\n",
    "df_star[\"Antimicrobial\"] = df_func[\"Antimicrobial\"]\n",
    "df_uni[\"Antimicrobial\"] = 0\n",
    "\n",
    "df_unistar = pd.concat([df_star,df_uni]) #important to have starpep 1st to keep as many from there as possible!\n",
    "\n",
    "#keep only max of 7000 sequences for each length\n",
    "df_sunistar = pd.DataFrame() #small uniprot+starpep = sunistar\n",
    "for length in range(51):\n",
    "    cur_len_df = df_unistar.loc[df_unistar['lengths']==length] \n",
    "    df_sunistar = df_sunistar.append(cur_len_df[:7000])  \n",
    "\n",
    "#save datasets\n",
    "with open('new_sunistar.txt', 'w') as f:\n",
    "    for seq in df_sunistar['sequences'].to_numpy():\n",
    "        f.write(seq)\n",
    "        f.write('\\n')  \n",
    "\n",
    "with open('new_functions.txt', 'w') as f:\n",
    "    for func in df_sunistar['Antimicrobial'].to_numpy():\n",
    "        f.write(str(func))\n",
    "        f.write('\\n')"
   ]
  },
  {
   "cell_type": "code",
   "execution_count": 6,
   "id": "325f988f",
   "metadata": {},
   "outputs": [
    {
     "name": "stdout",
     "output_type": "stream",
     "text": [
      "number of starpep peptides in dataset:  36634\n",
      "fraction of entire set: 36634/304194 = 0.120\n",
      "number of amps in dataset:  10841\n"
     ]
    }
   ],
   "source": [
    "#check some dataset properties\n",
    "df_test = pd.concat([df_sunistar,df_star])\n",
    "difference = df_test.shape[0] - df_test['sequences'].drop_duplicates().shape[0]\n",
    "print(\"number of starpep peptides in dataset: \",difference)\n",
    "print(\"fraction of entire set: {}/{} = {:.3f}\".format(difference,df_sunistar.shape[0],difference/df_sunistar.shape[0]) )\n",
    "print(\"number of amps in dataset: \",df_sunistar.loc[df_sunistar['Antimicrobial']==1].shape[0])"
   ]
  },
  {
   "cell_type": "markdown",
   "id": "6707ffed",
   "metadata": {},
   "source": [
    "<h4> Now that we have the full dataset we can split into train and test sets and shuffle the data"
   ]
  },
  {
   "cell_type": "code",
   "execution_count": 7,
   "id": "3b96d7ac",
   "metadata": {},
   "outputs": [],
   "source": [
    "import random\n",
    "\n",
    "sequences=[]\n",
    "with open('sunistar.txt') as f:\n",
    "    sequences= [line.strip('\\na') for line in f]\n",
    "f.close()\n",
    "\n",
    "function_list = list(df_sunistar['Antimicrobial'])\n",
    "\n",
    "random.seed(0) # set the seed so shuffling is reproducible\n",
    "random_indices = np.linspace(0,len(sequences)-1, len(sequences)).astype(np.int)\n",
    "random.shuffle(random_indices)\n",
    "sequences = [sequences[i] for i in random_indices]\n",
    "function_list= [function_list[i] for i in random_indices]\n",
    "\n",
    "with open('peptide_train+test_no_shuff.txt', 'w') as f: \n",
    "    for idx, line in enumerate(sequences):\n",
    "        f.write(str(line)+'\\n')\n",
    "f.close()\n",
    "\n",
    "with open('peptide_train.txt', 'w') as f:\n",
    "    for idx,line in enumerate(sequences):\n",
    "        if idx <round(0.20*len(sequences)):\n",
    "            continue\n",
    "        f.write(str(line)+'\\n')\n",
    "f.close()\n",
    "\n",
    "with open('peptide_test.txt', 'w') as f:\n",
    "    for idx,line in enumerate(sequences):\n",
    "        if idx <round(0.20*len(sequences)):\n",
    "            f.write(str(line)+'\\n')\n",
    "        else:\n",
    "            break\n",
    "f.close()\n",
    "\n",
    "with open('function_train.txt', 'w') as f:\n",
    "    for idx,line in enumerate(function_list):\n",
    "        if idx <round(0.20*len(function_list)):\n",
    "            continue\n",
    "        f.write(str(line)+'\\n')\n",
    "f.close()\n",
    "\n",
    "with open('function_test.txt', 'w') as f:\n",
    "    for idx,line in enumerate(function_list):\n",
    "        if idx <round(0.20*len(function_list)):\n",
    "            continue\n",
    "        f.write(str(line)+'\\n')\n",
    "f.close()\n"
   ]
  },
  {
   "cell_type": "code",
   "execution_count": 9,
   "id": "812616f0",
   "metadata": {},
   "outputs": [
    {
     "data": {
      "image/png": "[encoded data removed]",
      "text/plain": [
       "<Figure size 432x288 with 1 Axes>"
      ]
     },
     "metadata": {
      "needs_background": "light"
     },
     "output_type": "display_data"
    }
   ],
   "source": [
    "import matplotlib.pyplot as plt\n",
    "plt.title(\"Dataset Length Distribution\")\n",
    "plt.xlabel(\"sequence length\")\n",
    "plt.ylabel(\"Occurence Count\")\n",
    "plt.hist(df_sunistar['lengths'], bins=49,)\n",
    "plt.savefig('dataset_length_distribution.png',facecolor='white',transparent=None, dpi=600)"
   ]
  },
  {
   "cell_type": "code",
   "execution_count": null,
   "id": "aa4a4a0e",
   "metadata": {},
   "outputs": [],
   "source": []
  }
 ],
 "metadata": {
  "kernelspec": {
   "display_name": "Python 3.8.5 ('amp21')",
   "language": "python",
   "name": "python3"
  },
  "language_info": {
   "codemirror_mode": {
    "name": "ipython",
    "version": 3
   },
   "file_extension": ".py",
   "mimetype": "text/x-python",
   "name": "python",
   "nbconvert_exporter": "python",
   "pygments_lexer": "ipython3",
   "version": "3.8.5"
  },
  "vscode": {
   "interpreter": {
    "hash": "686011dad3443993f8e7a9bdd4f15acb7c0d9d5c12f48e0b358ae8d8d9013b02"
   }
  }
 },
 "nbformat": 4,
 "nbformat_minor": 5
}
