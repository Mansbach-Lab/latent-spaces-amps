{
 "cells": [
  {
   "cell_type": "markdown",
   "id": "88aba5d6",
   "metadata": {},
   "source": [
    "<h3>Pipeline For Data Curation </h3>\n",
    "<h4>First load all starpep data and separate sequences with non-standard amino acids into a separate list </h4>"
   ]
  },
  {
   "cell_type": "code",
   "execution_count": 1,
   "id": "ae0683a3",
   "metadata": {},
   "outputs": [
    {
     "name": "stdout",
     "output_type": "stream",
     "text": [
      "Are there duplicates: False\n",
      "Number of sequences with only standard AA's:  42373 \t Number with non-standard AA's 2747\n"
     ]
    }
   ],
   "source": [
    "from Bio import SeqIO\n",
    "import re\n",
    "import pandas as pd\n",
    "import numpy as np\n",
    "pattern = re.compile(\"[^ARNDCEQGHILKMFPSTWYV]\") #no B asaparctic acid or Z glutamic acid (X,O,B,Z,J,U)\n",
    "standard = []\n",
    "non_standard= []\n",
    "for idx, record in enumerate(SeqIO.parse(\"amp_100_pep_toolbox_raw.fasta\", \"fasta\")):\n",
    "    if pattern.search(str(record.seq)):\n",
    "        non_standard.append(idx) #saving the index of the non-standard AAs for future reference\n",
    "    else:\n",
    "        standard.append(record.seq)\n",
    "\n",
    "print(\"Are there duplicates:\", len(standard) != len(set(standard))) #sets do not allow duplicate values, check if both list lens are equal\n",
    "\n",
    "print(\"Number of sequences with only standard AA's: \",len(standard), \"\\t Number with non-standard AA's\",len(non_standard))\n",
    "sequence_length_dict={'sequences': [str(seq) for seq in standard], 'lengths':[len(seq) for seq in standard]}\n",
    "pd.DataFrame.from_dict(sequence_length_dict).to_csv('starpep_sequences_and_lengths.csv', index=False)"
   ]
  },
  {
   "cell_type": "markdown",
   "id": "5c49d7c0",
   "metadata": {},
   "source": [
    "<h4> Then load the uniprot data and separate sequences with standad amino acids into a separate list"
   ]
  },
  {
   "cell_type": "code",
   "execution_count": 2,
   "id": "3cbacb52",
   "metadata": {},
   "outputs": [
    {
     "name": "stdout",
     "output_type": "stream",
     "text": [
      "Are there duplicates: True\n",
      "Are there duplicates after removal?: False\n",
      "Number of sequences with only standard AA's:  2839655 \t Number with non-standard AA's 27439\n"
     ]
    }
   ],
   "source": [
    "pattern = re.compile(\"[^ARNDCEQGHILKMFPSTWYV]\") #no B asaparctic acid or Z glutamic acid (or \"X\" or \"O\")\n",
    "standard = []\n",
    "non_standard= []\n",
    "for idx, record in enumerate(SeqIO.parse(\"uniprot_len_50_std_only_non_antimicrobial.fasta\", \"fasta\")):\n",
    "    if pattern.search(str(record.seq)):\n",
    "        non_standard.append(idx) #saving the index of the non-standard AAs for future reference\n",
    "    else:\n",
    "        standard.append(record.seq)\n",
    "\n",
    "print(\"Are there duplicates:\", len(standard) != len(set(standard))) #sets do not allow duplicate values, check if both list lens are equal\n",
    "standard = list(set(standard))\n",
    "print(\"Are there duplicates after removal?:\", len(standard) != len(set(standard))) #sets do not allow duplicate values, check if both list lens are equal\n",
    "\n",
    "print(\"Number of sequences with only standard AA's: \",len(standard), \"\\t Number with non-standard AA's\",len(non_standard))\n",
    "sequence_length_dict={'sequences': [str(seq) for seq in standard], 'lengths':[len(seq) for seq in standard]}\n",
    "pd.DataFrame.from_dict(sequence_length_dict).to_csv('uniprot_sequences_and_lengths.csv', index=False)"
   ]
  },
  {
   "cell_type": "markdown",
   "id": "2f4597fd",
   "metadata": {},
   "source": [
    "<h4> Load the function metadata for starpep and re-format it"
   ]
  },
  {
   "cell_type": "code",
   "execution_count": 3,
   "id": "878a869f",
   "metadata": {},
   "outputs": [],
   "source": [
    "df_func = pd.read_csv('sequence_function_link_std_only.csv')\n",
    "with open('starpep_amps_in_order.txt', 'w') as f:\n",
    "    for sequence, amp_check in zip(df_func['Sequences'], df_func['Antimicrobial']):\n",
    "        if amp_check==1:\n",
    "            f.write('antimicrobial\\n')\n",
    "        else:\n",
    "            f.write('not_antimicrobial\\n')\n",
    "f.close()"
   ]
  },
  {
   "cell_type": "markdown",
   "id": "2852de29",
   "metadata": {},
   "source": [
    "<h4> Now load both created csv's with starpep and uniprot sequences of only standard amino acids and combine to create final dataset"
   ]
  },
  {
   "cell_type": "code",
   "execution_count": 4,
   "id": "9f8190ad",
   "metadata": {},
   "outputs": [
    {
     "name": "stdout",
     "output_type": "stream",
     "text": [
      "found 2100 duplicates between starpep and uniprot\n",
      "found 317 AMPs from starpep in the negative uniprot dataset\n",
      "The second appearance of the duplicates is removed leaving peptides with appropriate function labels from Starpep\n",
      "found 42373 / 42373 peptides from starpep in joined dataset\n",
      "Have 35806 out of expected 35806 peptides with length <=50 from starpep in joined dataset\n"
     ]
    }
   ],
   "source": [
    "df_uni = pd.read_csv('uniprot_sequences_and_lengths.csv')\n",
    "df_star = pd.read_csv('starpep_sequences_and_lengths.csv')\n",
    "\n",
    "#loading the functional data for property predictor\n",
    "df_func = pd.read_csv('starpep_amps_in_order.txt', names=['Antimicrobial'])\n",
    "df_func[\"Antimicrobial\"] = df_func[\"Antimicrobial\"].map({\"antimicrobial\":1, \"not_antimicrobial\":0})\n",
    "\n",
    "#tie the functional data to starpep and add negative labels to all uniprot data\n",
    "df_star[\"Antimicrobial\"] = df_func[\"Antimicrobial\"]\n",
    "df_uni[\"Antimicrobial\"] = 0\n",
    "\n",
    "df_unistar = pd.concat([df_star,df_uni]) #important to have starpep 1st to keep as many from there as possible!\n",
    "#check if there were duplicates between starpep and uniprot datasets remove 2nd occurence\n",
    "df_unistar_duplicates = df_unistar.duplicated(subset='sequences', keep='last') #interested in starpep duplicates\n",
    "df_unistar_no_duplicates = df_unistar.drop_duplicates(subset='sequences',keep='first') #drop uniprot duplicates\n",
    "print(\"found {} duplicates between starpep and uniprot\".format(df_unistar.shape[0]- df_unistar_no_duplicates.shape[0]))\n",
    "starpep_duplicates = amps_found_in_starpep_and_uniprot = df_star.iloc[df_unistar_duplicates.loc[df_unistar_duplicates[:]==True].index]\n",
    "amps_found_in_starpep_and_uniprot = starpep_duplicates.loc[starpep_duplicates['Antimicrobial']==1]\n",
    "print(\"found {} AMPs from starpep in the negative uniprot dataset\".format(amps_found_in_starpep_and_uniprot.shape[0]))\n",
    "print(\"The second appearance of the duplicates is removed leaving peptides with appropriate function labels from Starpep\")\n",
    "#let's make sure all the starpep peptides are in our dataset\n",
    "temp_df = pd.concat([df_star, df_unistar_no_duplicates]).duplicated(subset='sequences', keep='last')\n",
    "print(\"found {} / {} peptides from starpep in joined dataset\".format(temp_df.loc[temp_df[:]==True].shape[0], df_star.shape[0]))\n",
    "\n",
    "#keep only max of 7000 sequences for each length\n",
    "df_sunistar = pd.DataFrame() #small uniprot+starpep = sunistar\n",
    "for length in range(51):\n",
    "    cur_len_df = df_unistar_no_duplicates.loc[df_unistar_no_duplicates ['lengths']==length] \n",
    "    df_sunistar = df_sunistar.append(cur_len_df[:7000])  \n",
    "\n",
    "#Check that all starpep peptides with length <=50 are in our dataset\n",
    "temp_df = pd.concat([df_star, df_sunistar]).duplicated(subset='sequences', keep='last')\n",
    "print(\"Have {} out of expected {} peptides with length <=50 from starpep in joined dataset\".format(temp_df.loc[temp_df[:]==True].shape[0],\n",
    "                                                                                                    df_star.loc[df_star['lengths']<=50].shape[0]) )\n",
    "#save datasets\n",
    "with open('sunistar.txt', 'w') as f:\n",
    "    for seq in df_sunistar['sequences'].to_numpy():\n",
    "        f.write(seq)\n",
    "        f.write('\\n')  \n",
    "\n",
    "with open('functions.txt', 'w') as f:\n",
    "    for func in df_sunistar['Antimicrobial'].to_numpy():\n",
    "        f.write(str(func))\n",
    "        f.write('\\n')"
   ]
  },
  {
   "cell_type": "code",
   "execution_count": 5,
   "id": "325f988f",
   "metadata": {},
   "outputs": [
    {
     "name": "stdout",
     "output_type": "stream",
     "text": [
      "fraction of datasaet that is starpep = 35806 / 304001 = 0.1178\n",
      "peptides from Uniprot 268195\n",
      "number of amps in dataset:  10841\n"
     ]
    }
   ],
   "source": [
    "print(\"fraction of datasaet that is starpep = {} / {} = {:.4f}\".format(df_star.loc[df_star['lengths']<=50].shape[0], df_sunistar.shape[0], df_star.loc[df_star['lengths']<=50].shape[0]/df_sunistar.shape[0]))\n",
    "print(\"peptides from Uniprot {}\".format(df_sunistar.shape[0]-df_star.loc[df_star['lengths']<=50].shape[0]))\n",
    "print(\"number of amps in dataset: \",df_sunistar.loc[df_sunistar['Antimicrobial']==1].shape[0])"
   ]
  },
  {
   "cell_type": "markdown",
   "id": "6707ffed",
   "metadata": {},
   "source": [
    "<h4> Now that we have the full dataset we can split into train and test sets and shuffle the data"
   ]
  },
  {
   "cell_type": "code",
   "execution_count": 40,
   "id": "3b96d7ac",
   "metadata": {},
   "outputs": [],
   "source": [
    "import random\n",
    "\n",
    "sequences=[]\n",
    "with open('sunistar.txt') as f:\n",
    "    sequences= [line.strip('\\na') for line in f]\n",
    "f.close()\n",
    "\n",
    "function_list = list(df_sunistar['Antimicrobial'])\n",
    "\n",
    "random.seed(0) # set the seed so shuffling is reproducible\n",
    "random_indices = np.linspace(0,len(sequences)-1, len(sequences)).astype(np.int)\n",
    "random.shuffle(random_indices)\n",
    "sequences = [sequences[i] for i in random_indices]\n",
    "function_list= [function_list[i] for i in random_indices]\n",
    "\n",
    "with open('final_dataset/peptide_train.txt', 'w') as f:\n",
    "    f.write(\"peptides\\n\")\n",
    "    for idx,line in enumerate(sequences):\n",
    "        if idx <round(0.20*len(sequences)):\n",
    "            continue\n",
    "        f.write(str(line)+'\\n')\n",
    "f.close()\n",
    "\n",
    "with open('final_dataset/peptide_test.txt', 'w') as f:\n",
    "    f.write(\"peptides\\n\")\n",
    "    for idx,line in enumerate(sequences):\n",
    "        if idx <round(0.20*len(sequences)):\n",
    "            f.write(str(line)+'\\n')\n",
    "        else:\n",
    "            break\n",
    "f.close()\n",
    "\n",
    "with open('final_dataset/function_train.txt', 'w') as f:\n",
    "    f.write(\"peptides\\n\")\n",
    "    for idx,line in enumerate(function_list):\n",
    "        if idx <round(0.20*len(function_list)):\n",
    "            continue\n",
    "        f.write(str(line)+'\\n')\n",
    "f.close()\n",
    "\n",
    "with open('final_dataset/function_test.txt', 'w') as f:\n",
    "    f.write(\"peptides\\n\")\n",
    "    for idx,line in enumerate(function_list):\n",
    "        if idx <round(0.20*len(function_list)):\n",
    "            f.write(str(line)+'\\n')\n",
    "        else:\n",
    "            break\n",
    "f.close()\n"
   ]
  },
  {
   "cell_type": "code",
   "execution_count": 41,
   "id": "812616f0",
   "metadata": {},
   "outputs": [
    {
     "data": {
      "image/png": "[encoded data removed]",
      "text/plain": [
       "<Figure size 432x288 with 1 Axes>"
      ]
     },
     "metadata": {
      "needs_background": "light"
     },
     "output_type": "display_data"
    }
   ],
   "source": [
    "import matplotlib.pyplot as plt\n",
    "plt.title(\"Dataset Length Distribution\")\n",
    "plt.xlabel(\"sequence length\")\n",
    "plt.ylabel(\"Occurence Count\")\n",
    "plt.hist(df_sunistar['lengths'], bins=49,)\n",
    "plt.savefig('dataset_length_distribution.png',facecolor='white',transparent=None, dpi=600)"
   ]
  },
  {
   "cell_type": "markdown",
   "id": "51c35127",
   "metadata": {},
   "source": [
    "<H3> Need to create token dictionnary and weights to rescale values for training"
   ]
  },
  {
   "cell_type": "code",
   "execution_count": 42,
   "id": "aa4a4a0e",
   "metadata": {},
   "outputs": [
    {
     "name": "stdout",
     "output_type": "stream",
     "text": [
      "building dictionary...\n",
      "calculating weights...\n",
      "{'M': 295902, 'K': 451069, 'Y': 202789, 'C': 167740, 'S': 484447, 'Q': 243903, 'G': 446551, 'T': 362556, 'V': 441128, 'A': 509749, 'L': 685260, 'R': 449304, 'I': 429098, 'P': 308972, 'D': 285789, 'F': 315026, 'H': 161479, 'E': 362688, 'N': 279440, 'W': 107690, '_': 5169470, '<end>': 243201}\n"
     ]
    }
   ],
   "source": [
    "import sys\n",
    "sys.path.append('../../') #allows import from 2 dirs above the CWD\n",
    "inputs = 'final_dataset/peptide_train.txt'\n",
    "max_len = 50 #max length of the sequence\n",
    "save_dir = \"final_dataset/\"\n",
    "vocab_name = 'char_dict_peptide'\n",
    "weights_name = 'char_weights_peptide'\n",
    "\n",
    "%run ../../scripts/build_vocab.py --inputs $inputs --max_len $max_len --save_dir $save_dir --vocab_name $vocab_name --weights_name $weights_name"
   ]
  },
  {
   "cell_type": "code",
   "execution_count": null,
   "id": "997d1f87",
   "metadata": {},
   "outputs": [],
   "source": []
  }
 ],
 "metadata": {
  "kernelspec": {
   "display_name": "Python 3.8.5 ('amp21')",
   "language": "python",
   "name": "python3"
  },
  "language_info": {
   "codemirror_mode": {
    "name": "ipython",
    "version": 3
   },
   "file_extension": ".py",
   "mimetype": "text/x-python",
   "name": "python",
   "nbconvert_exporter": "python",
   "pygments_lexer": "ipython3",
   "version": "3.8.5 (default, Sep  3 2020, 21:29:08) [MSC v.1916 64 bit (AMD64)]"
  },
  "vscode": {
   "interpreter": {
    "hash": "686011dad3443993f8e7a9bdd4f15acb7c0d9d5c12f48e0b358ae8d8d9013b02"
   }
  }
 },
 "nbformat": 4,
 "nbformat_minor": 5
}
